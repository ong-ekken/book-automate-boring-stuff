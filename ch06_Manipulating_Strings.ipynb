{
 "cells": [
  {
   "cell_type": "markdown",
   "metadata": {
    "id": "jv5EBzZAE-HH"
   },
   "source": [
    "# Automate the Boring Stuff with Python\n",
    "# Chapter 6: Manipulating Strings"
   ]
  },
  {
   "cell_type": "markdown",
   "metadata": {
    "id": "kbXSwIue9OYr"
   },
   "source": [
    "## Working with Strings"
   ]
  },
  {
   "cell_type": "markdown",
   "metadata": {
    "id": "sF6qGmbxDaRk"
   },
   "source": [
    "### String Literals\n"
   ]
  },
  {
   "cell_type": "code",
   "execution_count": null,
   "metadata": {
    "id": "qeCbT5YbE5v-"
   },
   "outputs": [],
   "source": [
    "# Using single quotes inside double quotes (vice versa)\n",
    "str0 = \"That is Alice's cat.\"\n",
    "str1 = '\"Why not?\"'\n",
    "\n",
    "bad_string = ' What's up ? '"
   ]
  },
  {
   "cell_type": "code",
   "execution_count": 8,
   "metadata": {
    "colab": {
     "base_uri": "https://localhost:8080/"
    },
    "executionInfo": {
     "elapsed": 733,
     "status": "ok",
     "timestamp": 1606806077212,
     "user": {
      "displayName": "Yuh Chian Ong",
      "photoUrl": "https://lh3.googleusercontent.com/a-/AOh14GhfmfPrUiDMrg6OiM-lPmn5EUJsz0vJvjdFWAPKEA=s64",
      "userId": "03669281660437514692"
     },
     "user_tz": -540
    },
    "id": "pRHBJ3RIFl2T",
    "outputId": "47cca831-1357-4aa8-9bff-4b016ed27c2c"
   },
   "outputs": [
    {
     "name": "stdout",
     "output_type": "stream",
     "text": [
      "single quote (')\n",
      "double quote (\")\n",
      "tab (\t)\n",
      "backslash (\\)\n",
      "newline (\n",
      ")\n"
     ]
    }
   ],
   "source": [
    "# Escape Characters\n",
    "\n",
    "str2 = \"single quote (\\')\\\n",
    "\\ndouble quote (\\\")\\\n",
    "\\ntab (\\t)\\\n",
    "\\nbackslash (\\\\)\\\n",
    "\\nnewline (\\n)\"\n",
    "\n",
    "print(str2)"
   ]
  },
  {
   "cell_type": "code",
   "execution_count": 10,
   "metadata": {
    "colab": {
     "base_uri": "https://localhost:8080/"
    },
    "executionInfo": {
     "elapsed": 632,
     "status": "ok",
     "timestamp": 1606806167592,
     "user": {
      "displayName": "Yuh Chian Ong",
      "photoUrl": "https://lh3.googleusercontent.com/a-/AOh14GhfmfPrUiDMrg6OiM-lPmn5EUJsz0vJvjdFWAPKEA=s64",
      "userId": "03669281660437514692"
     },
     "user_tz": -540
    },
    "id": "FEiWN2HBGzJi",
    "outputId": "52b6817e-96bb-4207-a85d-1aa823a8f897"
   },
   "outputs": [
    {
     "name": "stdout",
     "output_type": "stream",
     "text": [
      "That's Carol's cat!\n",
      "Yeah!\n",
      "That\\'s Carol\\'s cat!\\nYeah!\n"
     ]
    }
   ],
   "source": [
    "# Raw Strings\n",
    "\n",
    "str3 = \"That\\'s Carol\\'s cat!\\nYeah!\"\n",
    "str4 = r\"That\\'s Carol\\'s cat!\\nYeah!\"\n",
    "\n",
    "print(str3)\n",
    "print(str4)"
   ]
  },
  {
   "cell_type": "code",
   "execution_count": 69,
   "metadata": {
    "colab": {
     "base_uri": "https://localhost:8080/"
    },
    "executionInfo": {
     "elapsed": 1032,
     "status": "ok",
     "timestamp": 1606830730047,
     "user": {
      "displayName": "Yuh Chian Ong",
      "photoUrl": "https://lh3.googleusercontent.com/a-/AOh14GhfmfPrUiDMrg6OiM-lPmn5EUJsz0vJvjdFWAPKEA=s64",
      "userId": "03669281660437514692"
     },
     "user_tz": -540
    },
    "id": "KvTu8nyWkfOe",
    "outputId": "0959cb27-09d3-4f07-918a-954322c08dce"
   },
   "outputs": [
    {
     "name": "stdout",
     "output_type": "stream",
     "text": [
      "This is a sentence that will break across many different lines by using a back slash\n"
     ]
    }
   ],
   "source": [
    "# Single-line String that Looks Multiline\n",
    "\n",
    "str5 = \"This is a sentence that will \\\n",
    "break across many different lines by \\\n",
    "using a back slash\"\n",
    "\n",
    "print(str5)"
   ]
  },
  {
   "cell_type": "code",
   "execution_count": 11,
   "metadata": {
    "colab": {
     "base_uri": "https://localhost:8080/"
    },
    "executionInfo": {
     "elapsed": 1155,
     "status": "ok",
     "timestamp": 1606806229281,
     "user": {
      "displayName": "Yuh Chian Ong",
      "photoUrl": "https://lh3.googleusercontent.com/a-/AOh14GhfmfPrUiDMrg6OiM-lPmn5EUJsz0vJvjdFWAPKEA=s64",
      "userId": "03669281660437514692"
     },
     "user_tz": -540
    },
    "id": "VIkXfG-KHJGx",
    "outputId": "f71e2f01-cc7a-4340-ca7a-49b17cabd651"
   },
   "outputs": [
    {
     "name": "stdout",
     "output_type": "stream",
     "text": [
      "Dear Alice,\n",
      "\n",
      "Eve's cat has been arrested for catnapping, cat burglary, and extortion.\n",
      "\n",
      "Sincerely,\n",
      "Bob\n"
     ]
    }
   ],
   "source": [
    "# Multiline Strings with Triple Quotes\n",
    "\n",
    "print('''Dear Alice,\n",
    "\n",
    "Eve's cat has been arrested for catnapping, cat burglary, and extortion.\n",
    "\n",
    "Sincerely,\n",
    "Bob''')"
   ]
  },
  {
   "cell_type": "code",
   "execution_count": 12,
   "metadata": {
    "executionInfo": {
     "elapsed": 766,
     "status": "ok",
     "timestamp": 1606806312835,
     "user": {
      "displayName": "Yuh Chian Ong",
      "photoUrl": "https://lh3.googleusercontent.com/a-/AOh14GhfmfPrUiDMrg6OiM-lPmn5EUJsz0vJvjdFWAPKEA=s64",
      "userId": "03669281660437514692"
     },
     "user_tz": -540
    },
    "id": "-Cdo0jmfHVww"
   },
   "outputs": [],
   "source": [
    "# Multiline Comments\n",
    "\n",
    "\"\"\"This is a test Python program.\n",
    "Writen by Al Sweigart al@inventwithpython.com\n",
    "\n",
    "This program was designed for Python 3, not Python 2.\n",
    "\"\"\"\n",
    "\n",
    "def spam():\n",
    "    \"\"\"This is a multiline comment to help\n",
    "    explain what the spam() function does.\"\"\"\n",
    "    print('Hello!')"
   ]
  },
  {
   "cell_type": "markdown",
   "metadata": {
    "id": "aPWqgkgqDkXA"
   },
   "source": [
    "### Indexing and Slicing Strings"
   ]
  },
  {
   "cell_type": "code",
   "execution_count": 71,
   "metadata": {
    "colab": {
     "base_uri": "https://localhost:8080/"
    },
    "executionInfo": {
     "elapsed": 1287,
     "status": "ok",
     "timestamp": 1606830960057,
     "user": {
      "displayName": "Yuh Chian Ong",
      "photoUrl": "https://lh3.googleusercontent.com/a-/AOh14GhfmfPrUiDMrg6OiM-lPmn5EUJsz0vJvjdFWAPKEA=s64",
      "userId": "03669281660437514692"
     },
     "user_tz": -540
    },
    "id": "EGz7fNu7HsK8",
    "outputId": "c400ca33-dfcb-444c-fb32-7c6a64725a37"
   },
   "outputs": [
    {
     "name": "stdout",
     "output_type": "stream",
     "text": [
      "H --- 0\n",
      "e --- 1\n",
      "l --- 2\n",
      "l --- 3\n",
      "o --- 4\n",
      "  --- 5\n",
      "W --- 6\n",
      "o --- 7\n",
      "r --- 8\n",
      "l --- 9\n",
      "d --- 10\n",
      "! --- 11\n",
      "Index 0 is : H\n",
      "Index -1 is : !\n",
      "Slice 6: is : World!\n",
      "Slice 0:-1:2 is : HloWrd\n"
     ]
    }
   ],
   "source": [
    "str6 = \"Hello World!\"\n",
    "\n",
    "for index, letter in enumerate(str6):\n",
    "    print(letter, index, sep=\" --- \")\n",
    "\n",
    "print( \"Index 0 is :\", str6[0] )\n",
    "print( \"Index -1 is :\",  str6[-1])\n",
    "print( \"Slice 6: is :\", str6[6:] )\n",
    "print( \"Slice 0:-1:2 is :\", str6[0:-1:2] )"
   ]
  },
  {
   "cell_type": "code",
   "execution_count": 84,
   "metadata": {
    "colab": {
     "base_uri": "https://localhost:8080/"
    },
    "executionInfo": {
     "elapsed": 1144,
     "status": "ok",
     "timestamp": 1606831464495,
     "user": {
      "displayName": "Yuh Chian Ong",
      "photoUrl": "https://lh3.googleusercontent.com/a-/AOh14GhfmfPrUiDMrg6OiM-lPmn5EUJsz0vJvjdFWAPKEA=s64",
      "userId": "03669281660437514692"
     },
     "user_tz": -540
    },
    "id": "Az-7yxNNl-ZN",
    "outputId": "3954059b-c1d3-48e4-f142-881e5cb403e3"
   },
   "outputs": [
    {
     "name": "stdout",
     "output_type": "stream",
     "text": [
      "Hello lovely world!\n",
      "\n",
      "Using str.find()\n",
      "3\n",
      "6\n",
      "-1\n",
      "\n",
      " Using str.index()\n",
      "3\n",
      "6\n",
      "ValueError: substring not found\n"
     ]
    }
   ],
   "source": [
    "str7 = \"Hello lovely world!\"\n",
    "print(str7)\n",
    "\n",
    "print(\"\\nUsing str.find()\")\n",
    "print( str7.find('lo') )\n",
    "print( str7.find('lo', 4))  # start search from index 4\n",
    "print( str7.find('lo', 4, 5)) # end search by index 5\n",
    "\n",
    "print(\"\\n Using str.index()\")\n",
    "print( str7.index('lo') )\n",
    "print( str7.index('lo', 4)) # start search from index 4\n",
    "try:\n",
    "    print( str7.index('lo', 4, 5)) # end search by index 5\n",
    "except ValueError:\n",
    "    print( \"ValueError: substring not found\" )\n",
    "\n",
    "# Difference = str.find() returns -1 if not found"
   ]
  },
  {
   "cell_type": "markdown",
   "metadata": {
    "id": "aeibTphVDoSb"
   },
   "source": [
    "### The in and not in Operator with Strings"
   ]
  },
  {
   "cell_type": "code",
   "execution_count": 8,
   "metadata": {
    "colab": {
     "base_uri": "https://localhost:8080/"
    },
    "executionInfo": {
     "elapsed": 920,
     "status": "ok",
     "timestamp": 1606819030982,
     "user": {
      "displayName": "Yuh Chian Ong",
      "photoUrl": "https://lh3.googleusercontent.com/a-/AOh14GhfmfPrUiDMrg6OiM-lPmn5EUJsz0vJvjdFWAPKEA=s64",
      "userId": "03669281660437514692"
     },
     "user_tz": -540
    },
    "id": "SQmtRsTx3b3U",
    "outputId": "e82afc08-7943-4939-c032-1c09c052f00a"
   },
   "outputs": [
    {
     "name": "stdout",
     "output_type": "stream",
     "text": [
      ">>> 'Hello' in 'Hello World!' \n",
      "True\n",
      ">>> 'Hello' in 'Hello' \n",
      "True\n",
      ">>> 'HELLO' in 'Hello World!' \n",
      "False\n",
      ">>> '' in 'spam!' \n",
      "True\n",
      ">>> 'cats' not in 'cats and dogs' \n",
      "False\n"
     ]
    }
   ],
   "source": [
    "\n",
    "print(\">>> 'Hello' in 'Hello World!' \", 'Hello' in 'Hello World!', sep=\"\\n\")\n",
    "print(\">>> 'Hello' in 'Hello' \", 'Hello' in 'Hello', sep=\"\\n\")\n",
    "print(\">>> 'HELLO' in 'Hello World!' \", 'HELLO' in 'Hello World!', sep=\"\\n\")\n",
    "print(\">>> '' in 'spam!' \", '' in 'spam', sep=\"\\n\")\n",
    "print(\">>> 'cats' not in 'cats and dogs' \", 'cats' not in 'cats and dogs', sep=\"\\n\")"
   ]
  },
  {
   "cell_type": "markdown",
   "metadata": {
    "id": "UVJkzEE0Ds-g"
   },
   "source": [
    "## Useful String Methods\n"
   ]
  },
  {
   "cell_type": "markdown",
   "metadata": {
    "id": "dE4D3nYoDwLV"
   },
   "source": [
    "### upper( ), lower( ), isupper( ), and islower( ) Methods"
   ]
  },
  {
   "cell_type": "code",
   "execution_count": 86,
   "metadata": {
    "colab": {
     "base_uri": "https://localhost:8080/"
    },
    "executionInfo": {
     "elapsed": 1250,
     "status": "ok",
     "timestamp": 1606832914624,
     "user": {
      "displayName": "Yuh Chian Ong",
      "photoUrl": "https://lh3.googleusercontent.com/a-/AOh14GhfmfPrUiDMrg6OiM-lPmn5EUJsz0vJvjdFWAPKEA=s64",
      "userId": "03669281660437514692"
     },
     "user_tz": -540
    },
    "id": "o5347tli4NPe",
    "outputId": "715db829-016b-4250-b79e-361ad5108890"
   },
   "outputs": [
    {
     "name": "stdout",
     "output_type": "stream",
     "text": [
      "spam.upper() :  HELLO WORLD!\n",
      "spam.lower() :  hello world!\n",
      "spam.capitalize() :  Hello world!\n",
      "spam.title() :  Hello World!\n",
      "spam.swapcase() :  hELLO wORLD!\n"
     ]
    }
   ],
   "source": [
    "spam = 'Hello world!'\n",
    "spam = spam.upper()\n",
    "print(\"spam.upper() : \", spam)\n",
    "spam = spam.lower()\n",
    "print(\"spam.lower() : \", spam)\n",
    "spam = spam.capitalize()\n",
    "print(\"spam.capitalize() : \", spam)\n",
    "spam = spam.title()\n",
    "print(\"spam.title() : \", spam)\n",
    "spam = spam.swapcase()\n",
    "print(\"spam.swapcase() : \", spam)\n",
    "\n",
    "# if non-English text, .casefold() method preferred to .lower()"
   ]
  },
  {
   "cell_type": "code",
   "execution_count": 16,
   "metadata": {
    "colab": {
     "base_uri": "https://localhost:8080/"
    },
    "executionInfo": {
     "elapsed": 881,
     "status": "ok",
     "timestamp": 1606820261609,
     "user": {
      "displayName": "Yuh Chian Ong",
      "photoUrl": "https://lh3.googleusercontent.com/a-/AOh14GhfmfPrUiDMrg6OiM-lPmn5EUJsz0vJvjdFWAPKEA=s64",
      "userId": "03669281660437514692"
     },
     "user_tz": -540
    },
    "id": "ZJ3Fg5aJ6gVI",
    "outputId": "5c48b863-80c8-4849-976c-092690a0fec4"
   },
   "outputs": [
    {
     "name": "stdout",
     "output_type": "stream",
     "text": [
      "False\n",
      "False\n",
      "True\n",
      "True\n",
      "True\n",
      "False\n",
      "False\n"
     ]
    }
   ],
   "source": [
    "spam = 'Hello world!'\n",
    "print( spam.islower() ) # mixed_case.islower() returns False \n",
    "print( spam.isupper() ) # mixed_case.isupper() returns False \n",
    "print( 'HELLO'.isupper() )\n",
    "print( 'abc12345'.islower() ) #mixed_with_numbers.islower() returns True\n",
    "print( 'ABC12345'.isupper() ) #MIXED_with_numbers.isupper() returns True\n",
    "print( '12345'.islower() )\n",
    "print( '12345'.isupper() )"
   ]
  },
  {
   "cell_type": "markdown",
   "metadata": {
    "id": "jStPzdF5D2Z_"
   },
   "source": [
    "### isX String Methods"
   ]
  },
  {
   "cell_type": "code",
   "execution_count": 28,
   "metadata": {
    "colab": {
     "base_uri": "https://localhost:8080/"
    },
    "executionInfo": {
     "elapsed": 971,
     "status": "ok",
     "timestamp": 1606820850052,
     "user": {
      "displayName": "Yuh Chian Ong",
      "photoUrl": "https://lh3.googleusercontent.com/a-/AOh14GhfmfPrUiDMrg6OiM-lPmn5EUJsz0vJvjdFWAPKEA=s64",
      "userId": "03669281660437514692"
     },
     "user_tz": -540
    },
    "id": "dh7QzUch85nx",
    "outputId": "d5767caa-8c41-495b-b315-e45617ac1ce3"
   },
   "outputs": [
    {
     "name": "stdout",
     "output_type": "stream",
     "text": [
      "\n",
      "isalpha()\n",
      "==========\n",
      "True\n",
      "False\n",
      "\n",
      "isdecimal()\n",
      "==========\n",
      "True\n",
      "False\n",
      "\n",
      "isalnum()\n",
      "==========\n",
      "True\n",
      "True\n",
      "True\n",
      "False\n",
      "\n",
      "isspace()\n",
      "==========\n",
      "True\n",
      "True\n",
      "True\n",
      "False\n",
      "\n",
      "istitle()\n",
      "==========\n",
      "True\n",
      "True\n"
     ]
    }
   ],
   "source": [
    "print( '\\nisalpha()', '==========', sep=\"\\n\")\n",
    "print( 'abc'.isalpha() )\n",
    "print( 'abc123'.isalpha() )\n",
    "\n",
    "print( '\\nisdecimal()', '==========', sep=\"\\n\")\n",
    "print( '123'.isdecimal() )\n",
    "print( 'abc123'.isdecimal() )\n",
    "\n",
    "print( '\\nisalnum()', '==========', sep=\"\\n\")\n",
    "print( 'abc'.isalnum() )\n",
    "print( '123'.isalnum() )\n",
    "print( 'abc123'.isalnum() )\n",
    "print( 'abc123!!!'.isalnum() )\n",
    "\n",
    "print( '\\nisspace()', '==========', sep=\"\\n\")\n",
    "print( ' '.isspace() )\n",
    "print( ' \\t '.isspace() )\n",
    "print( ' \\n '.isspace() )\n",
    "print( ''.isspace() )\n",
    "\n",
    "print( '\\nistitle()', '==========', sep=\"\\n\")\n",
    "print( 'Title Words Start Capital 123'.istitle() )\n",
    "print( 'U.F.O.'.istitle() )\n",
    "\n",
    "# Useful for validating input type"
   ]
  },
  {
   "cell_type": "markdown",
   "metadata": {
    "id": "H9u529H1D6nT"
   },
   "source": [
    "### startswith( ) and endswith( ) String Methods"
   ]
  },
  {
   "cell_type": "code",
   "execution_count": 31,
   "metadata": {
    "colab": {
     "base_uri": "https://localhost:8080/"
    },
    "executionInfo": {
     "elapsed": 1167,
     "status": "ok",
     "timestamp": 1606821002945,
     "user": {
      "displayName": "Yuh Chian Ong",
      "photoUrl": "https://lh3.googleusercontent.com/a-/AOh14GhfmfPrUiDMrg6OiM-lPmn5EUJsz0vJvjdFWAPKEA=s64",
      "userId": "03669281660437514692"
     },
     "user_tz": -540
    },
    "id": "qJt--TA--CWj",
    "outputId": "427ba284-6953-4e39-a229-5f5c99671b7a"
   },
   "outputs": [
    {
     "name": "stdout",
     "output_type": "stream",
     "text": [
      "True\n",
      "False\n",
      "True\n",
      "True\n",
      "False\n",
      "True\n"
     ]
    }
   ],
   "source": [
    "print( 'Hello world!'.startswith('Hello') )\n",
    "print( 'abc123'.startswith('abcdef') )\n",
    "print( 'Hello world!'.startswith('Hello world!') )\n",
    "\n",
    "print( 'Hello world!'.endswith('world!') )\n",
    "print( 'abc123'.endswith('12') )\n",
    "print( 'Hello world!'.endswith('Hello world!') )"
   ]
  },
  {
   "cell_type": "markdown",
   "metadata": {
    "id": "KNRdqaT9D-8J"
   },
   "source": [
    "### join( ) and split( ) String Methods"
   ]
  },
  {
   "cell_type": "code",
   "execution_count": 32,
   "metadata": {
    "colab": {
     "base_uri": "https://localhost:8080/"
    },
    "executionInfo": {
     "elapsed": 1150,
     "status": "ok",
     "timestamp": 1606821090645,
     "user": {
      "displayName": "Yuh Chian Ong",
      "photoUrl": "https://lh3.googleusercontent.com/a-/AOh14GhfmfPrUiDMrg6OiM-lPmn5EUJsz0vJvjdFWAPKEA=s64",
      "userId": "03669281660437514692"
     },
     "user_tz": -540
    },
    "id": "ZaMdQQdo_w0E",
    "outputId": "a7f088ff-998c-4d58-9bd8-83fb209a42b9"
   },
   "outputs": [
    {
     "name": "stdout",
     "output_type": "stream",
     "text": [
      "cats, rats, bats\n",
      "My name is Simon\n",
      "MyABCnameABCisABCSimon\n"
     ]
    }
   ],
   "source": [
    "print( ', '.join(['cats', 'rats', 'bats']) )\n",
    "print( ' '.join(['My', 'name', 'is', 'Simon']) )\n",
    "print( 'ABC'.join(['My', 'name', 'is', 'Simon']) )"
   ]
  },
  {
   "cell_type": "code",
   "execution_count": 87,
   "metadata": {
    "colab": {
     "base_uri": "https://localhost:8080/"
    },
    "executionInfo": {
     "elapsed": 945,
     "status": "ok",
     "timestamp": 1606835347428,
     "user": {
      "displayName": "Yuh Chian Ong",
      "photoUrl": "https://lh3.googleusercontent.com/a-/AOh14GhfmfPrUiDMrg6OiM-lPmn5EUJsz0vJvjdFWAPKEA=s64",
      "userId": "03669281660437514692"
     },
     "user_tz": -540
    },
    "id": "fTXlbfoiAEXh",
    "outputId": "2c239b0e-8cc4-44c3-f0e1-5b31711ee196"
   },
   "outputs": [
    {
     "name": "stdout",
     "output_type": "stream",
     "text": [
      "['My', 'name', 'is', 'Simon']\n",
      "['My', 'name', 'is', 'Simon']\n",
      "['My na', 'e is Si', 'on']\n"
     ]
    },
    {
     "data": {
      "text/plain": [
       "['Dear Alice,',\n",
       " 'How have you been? I am fine.',\n",
       " '',\n",
       " 'See you next week at \"Club Bistro\".',\n",
       " 'Sincerely,',\n",
       " 'Bob']"
      ]
     },
     "execution_count": 87,
     "metadata": {
      "tags": []
     },
     "output_type": "execute_result"
    }
   ],
   "source": [
    "print( 'My name is Simon'.split() )\n",
    "\n",
    "print( 'MyABCnameABCisABCSimon'.split('ABC') )\n",
    "\n",
    "print( 'My name is Simon'.split('m') )\n",
    "\n",
    "spam = '''Dear Alice,\n",
    "How have you been? I am fine.\n",
    "\n",
    "See you next week at \"Club Bistro\".\n",
    "Sincerely,\n",
    "Bob'''\n",
    "\n",
    "spam.split('\\n')"
   ]
  },
  {
   "cell_type": "markdown",
   "metadata": {
    "id": "udWC17IgEHSM"
   },
   "source": [
    "### Justifying Text with rjust( ), ljust( ), and center( )"
   ]
  },
  {
   "cell_type": "code",
   "execution_count": 44,
   "metadata": {
    "colab": {
     "base_uri": "https://localhost:8080/"
    },
    "executionInfo": {
     "elapsed": 1059,
     "status": "ok",
     "timestamp": 1606821496514,
     "user": {
      "displayName": "Yuh Chian Ong",
      "photoUrl": "https://lh3.googleusercontent.com/a-/AOh14GhfmfPrUiDMrg6OiM-lPmn5EUJsz0vJvjdFWAPKEA=s64",
      "userId": "03669281660437514692"
     },
     "user_tz": -540
    },
    "id": "QKJYiGMzAq_A",
    "outputId": "63946417-0a48-4111-e87f-404d44d6107c"
   },
   "outputs": [
    {
     "name": "stdout",
     "output_type": "stream",
     "text": [
      "0123456789\n",
      "     Hello\n",
      "               Hello\n",
      "         Hello World\n",
      "Hello     \n",
      "***************Hello\n",
      "Hello---------------\n",
      "       Hello        \n",
      "=======Hello========\n"
     ]
    }
   ],
   "source": [
    "print( '0123456789' )\n",
    "print( 'Hello'.rjust(10) )\n",
    "print( 'Hello'.rjust(20) )\n",
    "print( 'Hello World'.rjust(20) )\n",
    "print( 'Hello'.ljust(10) )\n",
    "print( 'Hello'.rjust(20, '*') )\n",
    "print( 'Hello'.ljust(20, '-') )\n",
    "print( 'Hello'.center(20) )\n",
    "print( 'Hello'.center(20, '=') )"
   ]
  },
  {
   "cell_type": "code",
   "execution_count": 48,
   "metadata": {
    "colab": {
     "base_uri": "https://localhost:8080/"
    },
    "executionInfo": {
     "elapsed": 1242,
     "status": "ok",
     "timestamp": 1606821685644,
     "user": {
      "displayName": "Yuh Chian Ong",
      "photoUrl": "https://lh3.googleusercontent.com/a-/AOh14GhfmfPrUiDMrg6OiM-lPmn5EUJsz0vJvjdFWAPKEA=s64",
      "userId": "03669281660437514692"
     },
     "user_tz": -540
    },
    "id": "FuTyR9o3BomL",
    "outputId": "b1cfc50a-0801-4f4d-d7fe-390a6ccc00fc"
   },
   "outputs": [
    {
     "name": "stdout",
     "output_type": "stream",
     "text": [
      "---PICNIC ITEMS--\n",
      "sandwiches..    4\n",
      "apples......   12\n",
      "cups........    4\n",
      "cookies..... 8000\n",
      "\n",
      "\n",
      "-------PICNIC ITEMS-------\n",
      "sandwiches..........     4\n",
      "apples..............    12\n",
      "cups................     4\n",
      "cookies.............  8000\n",
      "\n",
      "\n"
     ]
    }
   ],
   "source": [
    "def printPicnic(itemsDict, leftWidth, rightWidth):\n",
    "    print('PICNIC ITEMS'.center(leftWidth + rightWidth, '-') )\n",
    "    for k, v in itemsDict.items():\n",
    "        print(k.ljust(leftWidth, '.') + str(v).rjust(rightWidth))\n",
    "    print('\\n')\n",
    "\n",
    "picnicItems = {'sandwiches': 4, 'apples': 12, 'cups': 4, 'cookies': 8000}\n",
    "\n",
    "printPicnic(picnicItems, 12, 5)\n",
    "printPicnic(picnicItems, 20, 6)"
   ]
  },
  {
   "cell_type": "markdown",
   "metadata": {
    "id": "QVP8c2AAEMj-"
   },
   "source": [
    "### Removing Whitespace with strip( ), rstrip( ), and lstrip( )"
   ]
  },
  {
   "cell_type": "code",
   "execution_count": 55,
   "metadata": {
    "colab": {
     "base_uri": "https://localhost:8080/"
    },
    "executionInfo": {
     "elapsed": 872,
     "status": "ok",
     "timestamp": 1606821877954,
     "user": {
      "displayName": "Yuh Chian Ong",
      "photoUrl": "https://lh3.googleusercontent.com/a-/AOh14GhfmfPrUiDMrg6OiM-lPmn5EUJsz0vJvjdFWAPKEA=s64",
      "userId": "03669281660437514692"
     },
     "user_tz": -540
    },
    "id": "5P75K5BsCZQJ",
    "outputId": "fd0bd300-04c9-43bf-fbdc-dd00173a384e"
   },
   "outputs": [
    {
     "name": "stdout",
     "output_type": "stream",
     "text": [
      "Hello World\n",
      "Hello World    \n",
      "\n",
      "    Hello World\n",
      "BaconSpamEggs\n"
     ]
    }
   ],
   "source": [
    "spam = '    Hello World    \\n'\n",
    "print( spam.strip() )\n",
    "print( spam.lstrip() )\n",
    "print( spam.rstrip() )\n",
    "\n",
    "spam2 = 'SpamSpamBaconSpamEggsSpamSpam'\n",
    "print( spam2.strip('ampS') )"
   ]
  },
  {
   "cell_type": "markdown",
   "metadata": {
    "id": "qGJYnVGRETJe"
   },
   "source": [
    "### Copying and Pasting Strings with the pyperclip Module"
   ]
  },
  {
   "cell_type": "code",
   "execution_count": 57,
   "metadata": {
    "colab": {
     "base_uri": "https://localhost:8080/",
     "height": 565
    },
    "executionInfo": {
     "elapsed": 5878,
     "status": "error",
     "timestamp": 1606821933578,
     "user": {
      "displayName": "Yuh Chian Ong",
      "photoUrl": "https://lh3.googleusercontent.com/a-/AOh14GhfmfPrUiDMrg6OiM-lPmn5EUJsz0vJvjdFWAPKEA=s64",
      "userId": "03669281660437514692"
     },
     "user_tz": -540
    },
    "id": "DJZ6b_pgDEEO",
    "outputId": "4efb7992-b837-4abd-c23f-77fdb9ae017b"
   },
   "outputs": [
    {
     "name": "stdout",
     "output_type": "stream",
     "text": [
      "Collecting pyperclip\n",
      "  Downloading https://files.pythonhosted.org/packages/6f/4c/0b1d507ad7e8bc31d690d04b4f475e74c2002d060f7994ce8c09612df707/pyperclip-1.8.1.tar.gz\n",
      "Building wheels for collected packages: pyperclip\n",
      "  Building wheel for pyperclip (setup.py) ... \u001b[?25l\u001b[?25hdone\n",
      "  Created wheel for pyperclip: filename=pyperclip-1.8.1-cp36-none-any.whl size=11119 sha256=017b2f682d7c7686c626e2f9ab43c78109c5c8df4b3653291bad43f1fdad9aa4\n",
      "  Stored in directory: /root/.cache/pip/wheels/44/10/3a/c830e9bb3db2c93274ea1f213a41fabde0d8cf3794251fad0c\n",
      "Successfully built pyperclip\n",
      "Installing collected packages: pyperclip\n",
      "Successfully installed pyperclip-1.8.1\n"
     ]
    },
    {
     "ename": "PyperclipException",
     "evalue": "ignored",
     "output_type": "error",
     "traceback": [
      "\u001b[0;31m---------------------------------------------------------------------------\u001b[0m",
      "\u001b[0;31mPyperclipException\u001b[0m                        Traceback (most recent call last)",
      "\u001b[0;32m<ipython-input-57-15e6d1838891>\u001b[0m in \u001b[0;36m<module>\u001b[0;34m()\u001b[0m\n\u001b[1;32m      2\u001b[0m \u001b[0;34m\u001b[0m\u001b[0m\n\u001b[1;32m      3\u001b[0m \u001b[0;32mimport\u001b[0m \u001b[0mpyperclip\u001b[0m\u001b[0;34m\u001b[0m\u001b[0;34m\u001b[0m\u001b[0m\n\u001b[0;32m----> 4\u001b[0;31m \u001b[0mpyperclip\u001b[0m\u001b[0;34m.\u001b[0m\u001b[0mcopy\u001b[0m\u001b[0;34m(\u001b[0m\u001b[0;34m'Hello world!'\u001b[0m\u001b[0;34m)\u001b[0m\u001b[0;34m\u001b[0m\u001b[0;34m\u001b[0m\u001b[0m\n\u001b[0m\u001b[1;32m      5\u001b[0m \u001b[0mpyperclip\u001b[0m\u001b[0;34m.\u001b[0m\u001b[0mpaste\u001b[0m\u001b[0;34m(\u001b[0m\u001b[0;34m)\u001b[0m\u001b[0;34m\u001b[0m\u001b[0;34m\u001b[0m\u001b[0m\n",
      "\u001b[0;32m/usr/local/lib/python3.6/dist-packages/pyperclip/__init__.py\u001b[0m in \u001b[0;36mlazy_load_stub_copy\u001b[0;34m(text)\u001b[0m\n\u001b[1;32m    657\u001b[0m     \u001b[0;32mglobal\u001b[0m \u001b[0mcopy\u001b[0m\u001b[0;34m,\u001b[0m \u001b[0mpaste\u001b[0m\u001b[0;34m\u001b[0m\u001b[0;34m\u001b[0m\u001b[0m\n\u001b[1;32m    658\u001b[0m     \u001b[0mcopy\u001b[0m\u001b[0;34m,\u001b[0m \u001b[0mpaste\u001b[0m \u001b[0;34m=\u001b[0m \u001b[0mdetermine_clipboard\u001b[0m\u001b[0;34m(\u001b[0m\u001b[0;34m)\u001b[0m\u001b[0;34m\u001b[0m\u001b[0;34m\u001b[0m\u001b[0m\n\u001b[0;32m--> 659\u001b[0;31m     \u001b[0;32mreturn\u001b[0m \u001b[0mcopy\u001b[0m\u001b[0;34m(\u001b[0m\u001b[0mtext\u001b[0m\u001b[0;34m)\u001b[0m\u001b[0;34m\u001b[0m\u001b[0;34m\u001b[0m\u001b[0m\n\u001b[0m\u001b[1;32m    660\u001b[0m \u001b[0;34m\u001b[0m\u001b[0m\n\u001b[1;32m    661\u001b[0m \u001b[0;34m\u001b[0m\u001b[0m\n",
      "\u001b[0;32m/usr/local/lib/python3.6/dist-packages/pyperclip/__init__.py\u001b[0m in \u001b[0;36m__call__\u001b[0;34m(self, *args, **kwargs)\u001b[0m\n\u001b[1;32m    334\u001b[0m \u001b[0;34m\u001b[0m\u001b[0m\n\u001b[1;32m    335\u001b[0m         \u001b[0;32mdef\u001b[0m \u001b[0m__call__\u001b[0m\u001b[0;34m(\u001b[0m\u001b[0mself\u001b[0m\u001b[0;34m,\u001b[0m \u001b[0;34m*\u001b[0m\u001b[0margs\u001b[0m\u001b[0;34m,\u001b[0m \u001b[0;34m**\u001b[0m\u001b[0mkwargs\u001b[0m\u001b[0;34m)\u001b[0m\u001b[0;34m:\u001b[0m\u001b[0;34m\u001b[0m\u001b[0;34m\u001b[0m\u001b[0m\n\u001b[0;32m--> 336\u001b[0;31m             \u001b[0;32mraise\u001b[0m \u001b[0mPyperclipException\u001b[0m\u001b[0;34m(\u001b[0m\u001b[0mEXCEPT_MSG\u001b[0m\u001b[0;34m)\u001b[0m\u001b[0;34m\u001b[0m\u001b[0;34m\u001b[0m\u001b[0m\n\u001b[0m\u001b[1;32m    337\u001b[0m \u001b[0;34m\u001b[0m\u001b[0m\n\u001b[1;32m    338\u001b[0m         \u001b[0;32mif\u001b[0m \u001b[0mPY2\u001b[0m\u001b[0;34m:\u001b[0m\u001b[0;34m\u001b[0m\u001b[0;34m\u001b[0m\u001b[0m\n",
      "\u001b[0;31mPyperclipException\u001b[0m: \n    Pyperclip could not find a copy/paste mechanism for your system.\n    For more information, please visit https://pyperclip.readthedocs.io/en/latest/index.html#not-implemented-error "
     ]
    }
   ],
   "source": [
    "% pip install pyperclip\n",
    "\n",
    "import pyperclip\n",
    "pyperclip.copy('Hello world!')\n",
    "pyperclip.paste()"
   ]
  },
  {
   "cell_type": "markdown",
   "metadata": {
    "id": "6a0e89dKEXpY"
   },
   "source": [
    "## Project: Password Locker"
   ]
  },
  {
   "cell_type": "markdown",
   "metadata": {
    "id": "aQPNxs-qD_5l"
   },
   "source": [
    "### *Does not work on Colaboratory"
   ]
  },
  {
   "cell_type": "code",
   "execution_count": 62,
   "metadata": {
    "colab": {
     "base_uri": "https://localhost:8080/"
    },
    "executionInfo": {
     "elapsed": 993,
     "status": "ok",
     "timestamp": 1606823869357,
     "user": {
      "displayName": "Yuh Chian Ong",
      "photoUrl": "https://lh3.googleusercontent.com/a-/AOh14GhfmfPrUiDMrg6OiM-lPmn5EUJsz0vJvjdFWAPKEA=s64",
      "userId": "03669281660437514692"
     },
     "user_tz": -540
    },
    "id": "4A70kJHLEBct",
    "outputId": "624f8abe-d67b-4849-a5e9-a27cf211a120"
   },
   "outputs": [
    {
     "name": "stdout",
     "output_type": "stream",
     "text": [
      "There is no account named -f\n"
     ]
    }
   ],
   "source": [
    "### Step 1: Program Design and Data Structures\n",
    "\n",
    "#! python3\n",
    "# pw.py - An insecure password locker program.\n",
    "\n",
    "PASSWORDS = {'email': 'gibberish1',\n",
    "             'blog': 'gibberish2',\n",
    "             'luggage': '12345'}\n",
    "\n",
    "import sys\n",
    "\n",
    "### Step 2: Handle Command Line Arguments\n",
    "\n",
    "if len(sys.argv) < 2:\n",
    "    print('Usage: python pw.py [account] - copy account password')\n",
    "    sys.exit()\n",
    "\n",
    "account = sys.argv[1]   # first command line arg is the account name\n",
    "\n",
    "# STEP 3 : Extract Password\n",
    "\n",
    "if account in PASSWORDS:\n",
    "    print('Password for ' + account + ' is ' + PASSWORDS[account] )\n",
    "else:\n",
    "    print('There is no account named ' + account) "
   ]
  },
  {
   "cell_type": "markdown",
   "metadata": {
    "id": "odKxA1PrEbzG"
   },
   "source": [
    "## Project: Adding Bullets to Wiki Markup"
   ]
  },
  {
   "cell_type": "markdown",
   "metadata": {
    "id": "pF0P6V_UEe3A"
   },
   "source": [
    "## Practice Questions\n",
    "\n",
    "1.   What are escape characters?\n",
    "2.   What do the \\n and \\t escape characters represent?\n",
    "3.   How can you put a \\ backslash character in a string?\n",
    "4.   The string value \"Howl's Moving Castle\" is a valid string. Why isn't it a problem that the single quote character in the word *Howl's* isn't escaped?\n",
    "5.   If you don't want to put \\n in your string, how can you write a string with newlines in it?\n",
    "6.   What do the following expressions evaluate to?  \n",
    "    *   'Hello world!'[1]\n",
    "    *   'Hello world!'[0:5]\n",
    "    *   'Hello world!'[:5]\n",
    "    *   'Hello world!'[3:]\n",
    "7.   What do the following expressions evaluate to?\n",
    "    *   'Hello'.upper()\n",
    "    *   'Hello'.upper().isupper()\n",
    "    *   'Hello'.upper().lower()\n",
    "8.   What do the following expressions evaluate to?\n",
    "    *   'Remember, remember, the fifth of November.'.split()\n",
    "    *   '-'.join('There can be only one.'.split())\n",
    "9.   What string methods can you use to right-justify, left-justify, and center a string?\n",
    "10.  How can you trim whitespace characters from the beginning or end of a string?\n",
    "\n",
    "\n",
    "\n"
   ]
  },
  {
   "cell_type": "markdown",
   "metadata": {
    "id": "YWFfmSpJK2qI"
   },
   "source": [
    "### Answers\n",
    "\n",
    "1.   Consists of a backslash and the character that would otherwise be parsed differently if entered alone, such as '\\\\', '\\t', '\\n', and '\\\"' or \"\\'\"\n",
    "2.   new line, tab\n",
    "3.   '\\\\\\\\'\n",
    "4.   Enclosed by double quotes\n",
    "5.   Use multiline strings via triple quotes\n",
    "6.   \n",
    "    *   'e'\n",
    "    *   'Hello'\n",
    "    *   'Hello'\n",
    "    *   'lo world!'\n",
    "7.   \n",
    "    *   'HELLO'\n",
    "    *   True\n",
    "    *   'hello'\n",
    "8.   \n",
    "    *   ['Remember,', 'remember,', 'the', 'fifth', 'of', 'November.']\n",
    "    *   'There-can-be-only-one.'\n",
    "9.   rjust(), ljust(), center()\n",
    "10.  rstrip(), lstrip(), strip()"
   ]
  },
  {
   "cell_type": "markdown",
   "metadata": {
    "id": "YVN0yqTuEgzH"
   },
   "source": [
    "## Practice Project"
   ]
  },
  {
   "cell_type": "code",
   "execution_count": 63,
   "metadata": {
    "executionInfo": {
     "elapsed": 963,
     "status": "ok",
     "timestamp": 1606825241640,
     "user": {
      "displayName": "Yuh Chian Ong",
      "photoUrl": "https://lh3.googleusercontent.com/a-/AOh14GhfmfPrUiDMrg6OiM-lPmn5EUJsz0vJvjdFWAPKEA=s64",
      "userId": "03669281660437514692"
     },
     "user_tz": -540
    },
    "id": "BBCKQHTGPppZ"
   },
   "outputs": [],
   "source": [
    "tableData = [['apples', 'oranges', 'cherries', 'banana'],\n",
    "             ['Alice', 'Bob', 'Carol', 'David'],\n",
    "             ['dogs', 'cats', 'moose', 'goose']]"
   ]
  },
  {
   "cell_type": "code",
   "execution_count": 68,
   "metadata": {
    "colab": {
     "base_uri": "https://localhost:8080/"
    },
    "executionInfo": {
     "elapsed": 940,
     "status": "ok",
     "timestamp": 1606825612130,
     "user": {
      "displayName": "Yuh Chian Ong",
      "photoUrl": "https://lh3.googleusercontent.com/a-/AOh14GhfmfPrUiDMrg6OiM-lPmn5EUJsz0vJvjdFWAPKEA=s64",
      "userId": "03669281660437514692"
     },
     "user_tz": -540
    },
    "id": "T_T1pQTYPJ21",
    "outputId": "649dcd73-6fa8-48d2-8e5c-e049a481e7fd"
   },
   "outputs": [
    {
     "name": "stdout",
     "output_type": "stream",
     "text": [
      "  apples    Alice     dogs \n",
      "\n",
      " oranges      Bob     cats \n",
      "\n",
      "cherries    Carol    moose \n",
      "\n",
      "  banana    David    goose \n",
      "\n"
     ]
    }
   ],
   "source": [
    "def printTable(list_of_lists):\n",
    "    columns = len(list_of_lists)\n",
    "    rows = len(list_of_lists[0])\n",
    "    longest = 0\n",
    "    for list_of_strings in list_of_lists:\n",
    "        for string in list_of_strings:\n",
    "            if len(string) > longest:\n",
    "                longest = len(string)\n",
    "\n",
    "    for row in range(rows):\n",
    "        for col in range(columns):\n",
    "            print(list_of_lists[col][row].rjust(longest), end=\" \")\n",
    "        print('\\n')\n",
    "\n",
    "printTable(tableData)        "
   ]
  }
 ],
 "metadata": {
  "colab": {
   "authorship_tag": "ABX9TyNes8jQPvi18Blmct7cw/Rf",
   "collapsed_sections": [],
   "name": "06_Manipulating_Strings.ipynb",
   "provenance": [],
   "toc_visible": true
  },
  "kernelspec": {
   "display_name": "Python 3",
   "language": "python",
   "name": "python3"
  },
  "language_info": {
   "codemirror_mode": {
    "name": "ipython",
    "version": 3
   },
   "file_extension": ".py",
   "mimetype": "text/x-python",
   "name": "python",
   "nbconvert_exporter": "python",
   "pygments_lexer": "ipython3",
   "version": "3.8.5"
  }
 },
 "nbformat": 4,
 "nbformat_minor": 1
}
