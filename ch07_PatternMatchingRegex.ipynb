{
 "cells": [
  {
   "cell_type": "markdown",
   "metadata": {},
   "source": [
    "# Automate the Boring Stuff with Python\n",
    "# Chapter 05 Dictionaries & Structuring Data"
   ]
  },
  {
   "cell_type": "code",
   "execution_count": 46,
   "metadata": {
    "colab": {
     "base_uri": "https://localhost:8080/"
    },
    "executionInfo": {
     "elapsed": 564,
     "status": "ok",
     "timestamp": 1608477278063,
     "user": {
      "displayName": "Yuh Chian Ong",
      "photoUrl": "https://lh3.googleusercontent.com/a-/AOh14GhfmfPrUiDMrg6OiM-lPmn5EUJsz0vJvjdFWAPKEA=s64",
      "userId": "03669281660437514692"
     },
     "user_tz": -540
    },
    "id": "wt8H76OARkcv",
    "outputId": "f33501fa-f7ce-4310-df2f-ab27f92c71ba"
   },
   "outputs": [
    {
     "name": "stdout",
     "output_type": "stream",
     "text": [
      "\\n\n",
      "\n",
      "\n"
     ]
    }
   ],
   "source": [
    "# Why We Need to Use Raw Strings\n",
    "print(r'\\n')    # prints \\n, which can be read by Regex parser\n",
    "print('\\n')     # prints a new line"
   ]
  },
  {
   "cell_type": "code",
   "execution_count": 14,
   "metadata": {
    "colab": {
     "base_uri": "https://localhost:8080/"
    },
    "executionInfo": {
     "elapsed": 866,
     "status": "ok",
     "timestamp": 1608476916602,
     "user": {
      "displayName": "Yuh Chian Ong",
      "photoUrl": "https://lh3.googleusercontent.com/a-/AOh14GhfmfPrUiDMrg6OiM-lPmn5EUJsz0vJvjdFWAPKEA=s64",
      "userId": "03669281660437514692"
     },
     "user_tz": -540
    },
    "id": "6_bN0ovvbsRN",
    "outputId": "ea728f33-16ca-4963-b1e2-87111d5f8cb6"
   },
   "outputs": [
    {
     "name": "stdout",
     "output_type": "stream",
     "text": [
      "True\n"
     ]
    }
   ],
   "source": [
    "# Finding Patterns of Text without Regular Expression\n",
    "# Will involve A LOT of if-else statements.\n",
    "\n",
    "def isPhoneNumber(text):\n",
    "    if len(text) != 12:\n",
    "        return False\n",
    "    for i in range(0, 3):\n",
    "        if not text[i].isdecimal():\n",
    "            return False\n",
    "    if text[3] != '-':\n",
    "        return False\n",
    "    for i in range(4, 7):\n",
    "        if not text[i].isdecimal():\n",
    "            return False\n",
    "    if text[7] != '-':\n",
    "        return False\n",
    "    for i in range(8, 12):\n",
    "        if not text[i].isdecimal():\n",
    "            return False\n",
    "    return True\n",
    "\n",
    "print(isPhoneNumber('415-555-4242'))"
   ]
  },
  {
   "cell_type": "code",
   "execution_count": 15,
   "metadata": {
    "colab": {
     "base_uri": "https://localhost:8080/"
    },
    "executionInfo": {
     "elapsed": 1230,
     "status": "ok",
     "timestamp": 1608476916987,
     "user": {
      "displayName": "Yuh Chian Ong",
      "photoUrl": "https://lh3.googleusercontent.com/a-/AOh14GhfmfPrUiDMrg6OiM-lPmn5EUJsz0vJvjdFWAPKEA=s64",
      "userId": "03669281660437514692"
     },
     "user_tz": -540
    },
    "id": "PG6wYAglcsaO",
    "outputId": "fd9b0832-a001-42a8-9ace-8fb03cc35542"
   },
   "outputs": [
    {
     "name": "stdout",
     "output_type": "stream",
     "text": [
      "Phone number found: 415-555-1911\n",
      "Phone number found: 415-555-9999\n",
      "done\n"
     ]
    }
   ],
   "source": [
    "message = 'Call me at 415-555-1911 tomorrow. 415-555-9999 is my office.'\n",
    "for i in range(len(message)):\n",
    "    chunk = message[i:i+12]\n",
    "    if isPhoneNumber(chunk):\n",
    "        print('Phone number found: ' + chunk)\n",
    "print('done')"
   ]
  },
  {
   "cell_type": "code",
   "execution_count": 16,
   "metadata": {
    "executionInfo": {
     "elapsed": 1216,
     "status": "ok",
     "timestamp": 1608476916988,
     "user": {
      "displayName": "Yuh Chian Ong",
      "photoUrl": "https://lh3.googleusercontent.com/a-/AOh14GhfmfPrUiDMrg6OiM-lPmn5EUJsz0vJvjdFWAPKEA=s64",
      "userId": "03669281660437514692"
     },
     "user_tz": -540
    },
    "id": "s0sm5BMDFW2r"
   },
   "outputs": [],
   "source": [
    "# Find Patterns of Text with Regular Expressions\n",
    "\n",
    "import re"
   ]
  },
  {
   "cell_type": "code",
   "execution_count": 17,
   "metadata": {
    "colab": {
     "base_uri": "https://localhost:8080/"
    },
    "executionInfo": {
     "elapsed": 1205,
     "status": "ok",
     "timestamp": 1608476916990,
     "user": {
      "displayName": "Yuh Chian Ong",
      "photoUrl": "https://lh3.googleusercontent.com/a-/AOh14GhfmfPrUiDMrg6OiM-lPmn5EUJsz0vJvjdFWAPKEA=s64",
      "userId": "03669281660437514692"
     },
     "user_tz": -540
    },
    "id": "jogLOylBdFtL",
    "outputId": "edb7ec77-1ec8-4db4-c790-39e4ab6bc347"
   },
   "outputs": [
    {
     "name": "stdout",
     "output_type": "stream",
     "text": [
      "Phone number found: 415-555-1911\n"
     ]
    }
   ],
   "source": [
    "phoneNumRegex = re.compile(r'\\d{3}-\\d{3}-\\d{4}') \n",
    "mo = phoneNumRegex.search(message)\n",
    "print('Phone number found: ' + mo.group(0))"
   ]
  },
  {
   "cell_type": "code",
   "execution_count": 18,
   "metadata": {
    "colab": {
     "base_uri": "https://localhost:8080/"
    },
    "executionInfo": {
     "elapsed": 1188,
     "status": "ok",
     "timestamp": 1608476916992,
     "user": {
      "displayName": "Yuh Chian Ong",
      "photoUrl": "https://lh3.googleusercontent.com/a-/AOh14GhfmfPrUiDMrg6OiM-lPmn5EUJsz0vJvjdFWAPKEA=s64",
      "userId": "03669281660437514692"
     },
     "user_tz": -540
    },
    "id": "Qztuy_a-dg1H",
    "outputId": "07e58e0a-c519-459c-ff1e-18d22bd9d4fb"
   },
   "outputs": [
    {
     "name": "stdout",
     "output_type": "stream",
     "text": [
      "Area code found: 415\n",
      "Number found: 555-1911\n"
     ]
    }
   ],
   "source": [
    "# Grouping with Parentheses\n",
    "phoneNumRegex = re.compile(r'(\\d{3})-(\\d{3}-\\d{4})') \n",
    "mo = phoneNumRegex.search(message)\n",
    "print('Area code found: ' + mo.group(1))\n",
    "print('Number found: ' + mo.group(2))"
   ]
  },
  {
   "cell_type": "code",
   "execution_count": 19,
   "metadata": {
    "colab": {
     "base_uri": "https://localhost:8080/"
    },
    "executionInfo": {
     "elapsed": 1170,
     "status": "ok",
     "timestamp": 1608476916994,
     "user": {
      "displayName": "Yuh Chian Ong",
      "photoUrl": "https://lh3.googleusercontent.com/a-/AOh14GhfmfPrUiDMrg6OiM-lPmn5EUJsz0vJvjdFWAPKEA=s64",
      "userId": "03669281660437514692"
     },
     "user_tz": -540
    },
    "id": "aWQ0ToIkd3_F",
    "outputId": "b537da54-8b15-4d23-9fc4-58c6a974ed04"
   },
   "outputs": [
    {
     "name": "stdout",
     "output_type": "stream",
     "text": [
      "415-555-1911\n",
      "415-555-1911\n",
      "('415', '555-1911')\n"
     ]
    }
   ],
   "source": [
    "# Difference between group(), group(0) and groups()\n",
    "\n",
    "print(mo.group())\n",
    "print(mo.group(0))\n",
    "print(mo.groups())"
   ]
  },
  {
   "cell_type": "code",
   "execution_count": 20,
   "metadata": {
    "colab": {
     "base_uri": "https://localhost:8080/"
    },
    "executionInfo": {
     "elapsed": 1150,
     "status": "ok",
     "timestamp": 1608476916994,
     "user": {
      "displayName": "Yuh Chian Ong",
      "photoUrl": "https://lh3.googleusercontent.com/a-/AOh14GhfmfPrUiDMrg6OiM-lPmn5EUJsz0vJvjdFWAPKEA=s64",
      "userId": "03669281660437514692"
     },
     "user_tz": -540
    },
    "id": "qyeaxj4Md9Ua",
    "outputId": "d2a71758-68c1-434c-a2ce-6aa7a4615e94"
   },
   "outputs": [
    {
     "name": "stdout",
     "output_type": "stream",
     "text": [
      "Batman\n",
      "Tina Fey\n"
     ]
    }
   ],
   "source": [
    "# Search only returns the first found instance\n",
    "# (by the way, Pipe allows an OR search)\n",
    "batman_first = 'Batman and Tina Fey'\n",
    "tina_first = 'Tina Fey and Batman'\n",
    "heroRegex = re.compile(r'Batman|Tina Fey')\n",
    "\n",
    "print( heroRegex.search(batman_first).group() )\n",
    "print( heroRegex.search(tina_first).group() )"
   ]
  },
  {
   "cell_type": "code",
   "execution_count": 21,
   "metadata": {
    "colab": {
     "base_uri": "https://localhost:8080/"
    },
    "executionInfo": {
     "elapsed": 1132,
     "status": "ok",
     "timestamp": 1608476916995,
     "user": {
      "displayName": "Yuh Chian Ong",
      "photoUrl": "https://lh3.googleusercontent.com/a-/AOh14GhfmfPrUiDMrg6OiM-lPmn5EUJsz0vJvjdFWAPKEA=s64",
      "userId": "03669281660437514692"
     },
     "user_tz": -540
    },
    "id": "hAbX-n98fB5U",
    "outputId": "111e6ec7-fb7a-4d9a-e255-4f5753f5204f"
   },
   "outputs": [
    {
     "name": "stdout",
     "output_type": "stream",
     "text": [
      "['415-555-1911', '415-555-9999']\n"
     ]
    }
   ],
   "source": [
    "# The .findall() Method\n",
    "\n",
    "message = 'Call me at 415-555-1911 tomorrow. 415-555-9999 is my office.'\n",
    "phoneNumRegex = re.compile(r'\\d{3}-\\d{3}-\\d{4}') \n",
    "mo = phoneNumRegex.findall(message)\n",
    "\n",
    "print(mo)"
   ]
  },
  {
   "cell_type": "code",
   "execution_count": 22,
   "metadata": {
    "colab": {
     "base_uri": "https://localhost:8080/"
    },
    "executionInfo": {
     "elapsed": 1111,
     "status": "ok",
     "timestamp": 1608476916996,
     "user": {
      "displayName": "Yuh Chian Ong",
      "photoUrl": "https://lh3.googleusercontent.com/a-/AOh14GhfmfPrUiDMrg6OiM-lPmn5EUJsz0vJvjdFWAPKEA=s64",
      "userId": "03669281660437514692"
     },
     "user_tz": -540
    },
    "id": "yzU1ov36fVlz",
    "outputId": "4bbdbd39-f81e-4393-d92f-52ef3486a576"
   },
   "outputs": [
    {
     "name": "stdout",
     "output_type": "stream",
     "text": [
      "Line One. \n",
      "==============\n",
      "Line One. \n",
      " Line Two. \n",
      " Line Three. \n",
      " \n"
     ]
    }
   ],
   "source": [
    "# Matching New Lines with the Dot Character\n",
    "\n",
    "noNewLineRegex = re.compile(r'.*')\n",
    "\n",
    "print( noNewLineRegex.search('Line One. \\n Line Two. \\n Line Three. \\n ').group() )\n",
    "\n",
    "print('==============')\n",
    "\n",
    "newLineRegex = re.compile(r'.*', re.DOTALL)\n",
    "\n",
    "print( newLineRegex.search('Line One. \\n Line Two. \\n Line Three. \\n ').group() )"
   ]
  },
  {
   "cell_type": "code",
   "execution_count": 23,
   "metadata": {
    "colab": {
     "base_uri": "https://localhost:8080/"
    },
    "executionInfo": {
     "elapsed": 1097,
     "status": "ok",
     "timestamp": 1608476916997,
     "user": {
      "displayName": "Yuh Chian Ong",
      "photoUrl": "https://lh3.googleusercontent.com/a-/AOh14GhfmfPrUiDMrg6OiM-lPmn5EUJsz0vJvjdFWAPKEA=s64",
      "userId": "03669281660437514692"
     },
     "user_tz": -540
    },
    "id": "xNh2_iRBf8Wm",
    "outputId": "c5d04793-4e9e-4f4d-a684-43380bd2b427"
   },
   "outputs": [
    {
     "name": "stdout",
     "output_type": "stream",
     "text": [
      "RoboCop\n",
      "ROBOCOP\n",
      "robocop\n"
     ]
    }
   ],
   "source": [
    "# Making the Regular expression object ignore case (match big or small letters)\n",
    "\n",
    "robocop = re.compile(r'robocop', re.I) # re.I same as re.IGNORECASE\n",
    "\n",
    "print( robocop.search('RoboCop is part man, part machine, all cop.').group() )\n",
    "\n",
    "print( robocop.search('ROBOCOP protects the innocent').group() )\n",
    "\n",
    "print( robocop.search('Al, why does your programming book talk about robocop so much.').group() )"
   ]
  },
  {
   "cell_type": "code",
   "execution_count": 24,
   "metadata": {
    "colab": {
     "base_uri": "https://localhost:8080/",
     "height": 37
    },
    "executionInfo": {
     "elapsed": 1084,
     "status": "ok",
     "timestamp": 1608476916998,
     "user": {
      "displayName": "Yuh Chian Ong",
      "photoUrl": "https://lh3.googleusercontent.com/a-/AOh14GhfmfPrUiDMrg6OiM-lPmn5EUJsz0vJvjdFWAPKEA=s64",
      "userId": "03669281660437514692"
     },
     "user_tz": -540
    },
    "id": "dHtrvf2jgaML",
    "outputId": "6ee1e2fd-2cd4-4bf5-c28f-b736f6d75361"
   },
   "outputs": [
    {
     "data": {
      "application/vnd.google.colaboratory.intrinsic+json": {
       "type": "string"
      },
      "text/plain": [
       "'CENSORED gave the secret documents to CENSORED.'"
      ]
     },
     "execution_count": 24,
     "metadata": {
      "tags": []
     },
     "output_type": "execute_result"
    }
   ],
   "source": [
    "# Substituting Strings with the .sub() Method\n",
    "\n",
    "namesRegex = re.compile(r'Agent \\w+')\n",
    "namesRegex.sub('CENSORED', 'Agent Alice gave the secret documents to Agent Bob.')"
   ]
  },
  {
   "cell_type": "code",
   "execution_count": 25,
   "metadata": {
    "colab": {
     "base_uri": "https://localhost:8080/",
     "height": 37
    },
    "executionInfo": {
     "elapsed": 1081,
     "status": "ok",
     "timestamp": 1608476916999,
     "user": {
      "displayName": "Yuh Chian Ong",
      "photoUrl": "https://lh3.googleusercontent.com/a-/AOh14GhfmfPrUiDMrg6OiM-lPmn5EUJsz0vJvjdFWAPKEA=s64",
      "userId": "03669281660437514692"
     },
     "user_tz": -540
    },
    "id": "CutJsHfUgyKK",
    "outputId": "60a4f4d8-64ed-404c-e326-901c19ab3080"
   },
   "outputs": [
    {
     "data": {
      "application/vnd.google.colaboratory.intrinsic+json": {
       "type": "string"
      },
      "text/plain": [
       "'Agent A**e gave the secret documents to Agent B**b.'"
      ]
     },
     "execution_count": 25,
     "metadata": {
      "tags": []
     },
     "output_type": "execute_result"
    }
   ],
   "source": [
    "# More Discrete Substitution\n",
    "\n",
    "namesRegex = re.compile(r'Agent (\\w)\\w+')\n",
    "namesRegex.sub(r'\\1****', 'Agent Alice gave the secret documents to Agent Bob.')\n",
    "\n",
    "namesRegex = re.compile(r'(Agent \\w)\\w+(\\w)')\n",
    "namesRegex.sub(r'\\1**\\2', 'Agent Alice gave the secret documents to Agent Bob.')"
   ]
  },
  {
   "cell_type": "code",
   "execution_count": 42,
   "metadata": {
    "colab": {
     "base_uri": "https://localhost:8080/"
    },
    "executionInfo": {
     "elapsed": 565,
     "status": "ok",
     "timestamp": 1608477255599,
     "user": {
      "displayName": "Yuh Chian Ong",
      "photoUrl": "https://lh3.googleusercontent.com/a-/AOh14GhfmfPrUiDMrg6OiM-lPmn5EUJsz0vJvjdFWAPKEA=s64",
      "userId": "03669281660437514692"
     },
     "user_tz": -540
    },
    "id": "JxJwTcMPhla0",
    "outputId": "0fb93e67-68ea-4468-ea2b-6be227773d27"
   },
   "outputs": [
    {
     "name": "stdout",
     "output_type": "stream",
     "text": [
      "415-555-1911\n"
     ]
    }
   ],
   "source": [
    "# Managing Complex Regexes \n",
    "\n",
    "phoneRegex = re.compile(r''' \n",
    "    (\\d{3}|\\(\\d{3}\\))               # area code\n",
    "    (\\s|\\-|\\.)                      # separator\n",
    "    (\\d{3})                           # first 3 digits\n",
    "    (\\s|\\-|\\.)                      # separator\n",
    "    (\\d{4})                           # last 4 digits\n",
    "    (\\s*(ext|x|ext.)\\s:\\d{2,5})?    # extension\n",
    "    ''', re.VERBOSE)\n",
    "\n",
    "print( phoneRegex.search(message).group() )"
   ]
  },
  {
   "cell_type": "code",
   "execution_count": 38,
   "metadata": {
    "executionInfo": {
     "elapsed": 513,
     "status": "ok",
     "timestamp": 1608477167306,
     "user": {
      "displayName": "Yuh Chian Ong",
      "photoUrl": "https://lh3.googleusercontent.com/a-/AOh14GhfmfPrUiDMrg6OiM-lPmn5EUJsz0vJvjdFWAPKEA=s64",
      "userId": "03669281660437514692"
     },
     "user_tz": -540
    },
    "id": "zIo8y2coE-RH"
   },
   "outputs": [],
   "source": [
    "# Dummy Data for the following parts\n",
    "\n",
    "text = '''The 2020 Summer Olympics (サマーオリンピック) is an upcoming international multi-sport event scheduled to take place from 23 July 2020 to 8 August 2021 in Tokyo, Japan. Originally due to take place from 24 July 2020 to 9 August 2020, the event was postponed in March 2020 as a result of the COVID-19 pandemic. Despite being rescheduled for 2021, the Games have retained the \"Tokyo 2020\" name for marketing and branding purposes. This marks the first time that the Olympic Games have been postponed rather than cancelled altogether. \n",
    "\n",
    "Tokyo was selected as the host city during the 125th IOC Session in Buenos Aires, Argentina, on 7 September 2013. The 2020 Games will mark the second time that Japan—and specifically Tokyo—has hosted the Summer Olympic Games, the first being in 1964, making it the first city in Asia to host the Summer Olympics twice. Overall, these will be the fourth Olympic Games to be held in Japan, which also hosted the Winter Olympics in 1972 (Sapporo) and 1998 (Nagano). The 2020 Games will also be the second of three consecutive Olympics to be held in East Asia, the first being in Pyeongchang County, South Korea in 2018, and the next in Beijing, China in 2022. \n",
    "\n",
    "For enquiries, call 山田太郎 at 050-234-5678 or 070-765-4321 or email at Yamada.Taro_2020@oly2020.co.jp for more details! ありがとうございます！'''"
   ]
  },
  {
   "cell_type": "code",
   "execution_count": 31,
   "metadata": {
    "colab": {
     "base_uri": "https://localhost:8080/"
    },
    "executionInfo": {
     "elapsed": 506,
     "status": "ok",
     "timestamp": 1608477013719,
     "user": {
      "displayName": "Yuh Chian Ong",
      "photoUrl": "https://lh3.googleusercontent.com/a-/AOh14GhfmfPrUiDMrg6OiM-lPmn5EUJsz0vJvjdFWAPKEA=s64",
      "userId": "03669281660437514692"
     },
     "user_tz": -540
    },
    "id": "dGydUDzWRmIv",
    "outputId": "a72e7e71-d316-48a7-a8b2-e5753e26ba77"
   },
   "outputs": [
    {
     "name": "stdout",
     "output_type": "stream",
     "text": [
      "Yamada.Taro_2020@oly2020.co.jp\n"
     ]
    }
   ],
   "source": [
    "emailRegex = re.compile(r'''([\\w\\.\\_]+  # First part of address\n",
    "                            @           # at sign\n",
    "                            [\\w\\.]+\\.co\\.jp)''', re.IGNORECASE | re.DOTALL | re.VERBOSE)\n",
    "\n",
    "print( emailRegex.search(text).group() )"
   ]
  },
  {
   "cell_type": "code",
   "execution_count": 32,
   "metadata": {
    "colab": {
     "base_uri": "https://localhost:8080/"
    },
    "executionInfo": {
     "elapsed": 519,
     "status": "ok",
     "timestamp": 1608477047353,
     "user": {
      "displayName": "Yuh Chian Ong",
      "photoUrl": "https://lh3.googleusercontent.com/a-/AOh14GhfmfPrUiDMrg6OiM-lPmn5EUJsz0vJvjdFWAPKEA=s64",
      "userId": "03669281660437514692"
     },
     "user_tz": -540
    },
    "id": "xHRjIoOhVzTt",
    "outputId": "def35351-5b61-4809-f499-2bca841b0cf9"
   },
   "outputs": [
    {
     "name": "stdout",
     "output_type": "stream",
     "text": [
      "<class '_sre.SRE_Pattern'>\n"
     ]
    }
   ],
   "source": [
    "print(type(phoneRegex))"
   ]
  },
  {
   "cell_type": "code",
   "execution_count": 44,
   "metadata": {
    "colab": {
     "base_uri": "https://localhost:8080/"
    },
    "executionInfo": {
     "elapsed": 624,
     "status": "ok",
     "timestamp": 1608477271176,
     "user": {
      "displayName": "Yuh Chian Ong",
      "photoUrl": "https://lh3.googleusercontent.com/a-/AOh14GhfmfPrUiDMrg6OiM-lPmn5EUJsz0vJvjdFWAPKEA=s64",
      "userId": "03669281660437514692"
     },
     "user_tz": -540
    },
    "id": "GfD80kzsRl5A",
    "outputId": "6989b623-9208-4ccc-8761-7a613348332e"
   },
   "outputs": [
    {
     "name": "stdout",
     "output_type": "stream",
     "text": [
      "050-234-5678\n",
      "070-765-4321\n"
     ]
    }
   ],
   "source": [
    "for number in phoneRegex.findall(text):\n",
    "    print(''.join(number))"
   ]
  },
  {
   "cell_type": "code",
   "execution_count": 45,
   "metadata": {
    "colab": {
     "base_uri": "https://localhost:8080/"
    },
    "executionInfo": {
     "elapsed": 517,
     "status": "ok",
     "timestamp": 1608477276163,
     "user": {
      "displayName": "Yuh Chian Ong",
      "photoUrl": "https://lh3.googleusercontent.com/a-/AOh14GhfmfPrUiDMrg6OiM-lPmn5EUJsz0vJvjdFWAPKEA=s64",
      "userId": "03669281660437514692"
     },
     "user_tz": -540
    },
    "id": "ZcEONA7sRloO",
    "outputId": "c427cefd-6601-4448-e149-26f292fe232b"
   },
   "outputs": [
    {
     "name": "stdout",
     "output_type": "stream",
     "text": [
      "Yamada.Taro_2020@oly2020.co.jp\n"
     ]
    }
   ],
   "source": [
    "for email in emailRegex.findall(text):\n",
    "    print(email)"
   ]
  },
  {
   "cell_type": "code",
   "execution_count": 50,
   "metadata": {
    "colab": {
     "base_uri": "https://localhost:8080/"
    },
    "executionInfo": {
     "elapsed": 477,
     "status": "ok",
     "timestamp": 1608477418776,
     "user": {
      "displayName": "Yuh Chian Ong",
      "photoUrl": "https://lh3.googleusercontent.com/a-/AOh14GhfmfPrUiDMrg6OiM-lPmn5EUJsz0vJvjdFWAPKEA=s64",
      "userId": "03669281660437514692"
     },
     "user_tz": -540
    },
    "id": "MELIf6RERlKT",
    "outputId": "2b50a7b2-0c30-45d1-d3f0-7b6b68680a6a"
   },
   "outputs": [
    {
     "name": "stdout",
     "output_type": "stream",
     "text": [
      "<class 'list'>\n",
      "050-234-5678\n",
      "070-765-4321\n"
     ]
    }
   ],
   "source": [
    "output = phoneRegex.findall(text)\n",
    "\n",
    "print(type(output))\n",
    "\n",
    "for num in output:\n",
    "    print( ''.join(num) )"
   ]
  },
  {
   "cell_type": "code",
   "execution_count": 51,
   "metadata": {
    "colab": {
     "base_uri": "https://localhost:8080/"
    },
    "executionInfo": {
     "elapsed": 561,
     "status": "ok",
     "timestamp": 1608477422219,
     "user": {
      "displayName": "Yuh Chian Ong",
      "photoUrl": "https://lh3.googleusercontent.com/a-/AOh14GhfmfPrUiDMrg6OiM-lPmn5EUJsz0vJvjdFWAPKEA=s64",
      "userId": "03669281660437514692"
     },
     "user_tz": -540
    },
    "id": "kdby_kE9WEDS",
    "outputId": "9f0692a6-1df9-4ed3-e7bf-192504c9e7a4"
   },
   "outputs": [
    {
     "name": "stdout",
     "output_type": "stream",
     "text": [
      "<class '_sre.SRE_Match'>\n",
      "050-234-5678\n"
     ]
    }
   ],
   "source": [
    "output = phoneRegex.search(text)\n",
    "\n",
    "print(type(output))\n",
    "\n",
    "print(output.group() )"
   ]
  },
  {
   "cell_type": "markdown",
   "metadata": {
    "id": "Ay0Aph8vug1x"
   },
   "source": [
    "1. What is the function that creates Regex objects?\n",
    "\n",
    "    - re.compile(regex)\n",
    "\n",
    "2. Why are raw strings often used when creating Regex objects?\n",
    "\n",
    "    - Regex uses a lot of backslashes, which would need to be escaped in order to be read properly, but we can bypass that using raw strings.\n",
    "\n",
    "3. What does the search() method return?\n",
    "\n",
    "    - it returns a Match object.\n",
    "\n",
    "4. How do you get the actual strings that match the pattern from a Match object?\n",
    "\n",
    "    - You run the method match.groups() which returns a list or match.group() which returns a string\n",
    "\n",
    "5. In the regex created from r'(\\d\\d\\d)-(\\d\\d\\d-\\d\\d\\d\\d)', what does group 0 cover? Group 1? Group 2?\n",
    "\n",
    "    - group 0 covers everything, in this case both group 1 and 2\n",
    "\n",
    "6. Parentheses and periods have specific meanings in regular expression syntax. How would you specify that you want a regex to match actual parentheses and period characters?\n",
    "\n",
    "    - you use escape characters, such as \\( and \\.\n",
    "\n",
    "7. The findall() method returns a list of strings or a list of tuples of strings. What makes it return one or the other?\n",
    "\n",
    "    - it depends if parentheses were used to create groupings in the regex\n",
    "\n",
    "8. What does the | character signify in regular expressions?\n",
    "\n",
    "    - the pipe signifies OR\n",
    "\n",
    "9. What two things does the ? character signify in regular expressions?\n",
    "\n",
    "    - it signifies non-greedy option when used after star or plus\n",
    "    - it signifies optional item when used after other characters\n",
    "\n",
    "10. What is the difference between the + and * characters in regular expressions?\n",
    "\n",
    "    - + is one or more, while * is zero or more\n",
    "\n",
    "11. What is the difference between {3} and {3,5} in regular expressions?\n",
    "\n",
    "    - 3 times repetitions vs 3-5 times repetitions\n",
    "\n",
    "12. What do the \\d, \\w, and \\s shorthand character classes signify in regular expressions?\n",
    "\n",
    "    - digits, alphanumeric characters, and whitespace (incl. newline)\n",
    "\n",
    "13. What do the \\D, \\W, and \\S shorthand character classes signify in regular expressions?\n",
    "\n",
    "    - non-digits, non-alphanumeric characters, and whitespace (incl. newline)\n",
    "\n",
    "14. What is the difference between .* and .*??\n",
    "\n",
    "    - wildcard (zero to infinite except newline) vs wildcard (at least once)\n",
    "\n",
    "15. What is the character class syntax to match all numbers and lowercase letters?\n",
    "\n",
    "    - [a-z0-9]\n",
    "\n",
    "16. How do you make a regular expression case-insensitive?\n",
    "\n",
    "    re.compile(regex, re.IGNORECASE)\n",
    "\n",
    "17. What does the . character normally match? What does it match if re.DOTALL is passed as the second argument to re.compile()?\n",
    "\n",
    "    - all except newline\n",
    "    - all including newline\n",
    "\n",
    "18. If numRegex = re.compile(r'\\d+'), what will numRegex.sub('X', '12 drummers, 11 pipers, five rings, 3 hens') return?\n",
    "\n",
    "    - 'X drummers, X pipers, five rings, X hens'\n",
    "\n",
    "19. What does passing re.VERBOSE as the second argument to re.compile() allow you to do?\n",
    "\n",
    "    - allows you to ignore whitespace and comments in your regex\n",
    "\n",
    "20. How would you write a regex that matches a number with commas for every three digits? It must match the following:\n",
    "'42'\n",
    "'1,234'\n",
    "'6,368,745'\n",
    "but not the following:\n",
    "'12,34,567' (which has only two digits between the commas)\n",
    "'1234' (which lacks commas)\n",
    "\n",
    "    - ^(\\d{1,3}(,\\d{3})*)[^,0-9]\n",
    "\n",
    "\n",
    "21. How would you write a regex that matches the full name of someone whose last name is Watanabe? You can assume that the first name that comes before it will always be one word that begins with a capital letter. The regex must match the following:\n",
    "'Haruto Watanabe'\n",
    "'Alice Watanabe'\n",
    "'RoboCop Watanabe'\n",
    "but not the following:\n",
    "'haruto Watanabe' (where the first name is not capitalized)\n",
    "'Mr. Watanabe' (where the preceding word has a nonletter character)\n",
    "'Watanabe' (which has no first name)\n",
    "'Haruto watanabe' (where Watanabe is not capitalized)\n",
    "\n",
    "    - [A-Z]\\w+ Watanabe\n",
    "\n",
    "22. How would you write a regex that matches a sentence where the first word is either Alice, Bob, or Carol; the second word is either eats, pets, or throws; the third word is apples, cats, or baseballs; and the sentence ends with a period? This regex should be case-insensitive. It must match the following:\n",
    "'Alice eats apples.'\n",
    "'Bob pets cats.'\n",
    "'Carol throws baseballs.'\n",
    "'Alice throws Apples.'\n",
    "'BOB EATS CATS.'\n",
    "but not the following:\n",
    "'RoboCop eats apples.'\n",
    "'ALICE THROWS FOOTBALLS.'\n",
    "'Carol eats 7 cats.'\n",
    "\n",
    "    - re.compile( r'(Alice|Bob|Carol) (eats|pets|throws) (apples|cats|baseball)', re.IGNORECASE )"
   ]
  }
 ],
 "metadata": {
  "colab": {
   "authorship_tag": "ABX9TyMJTDSQShnJXLMClgwU3SHP",
   "collapsed_sections": [],
   "name": "Ch7 Pattern Matching with Regex.ipynb",
   "provenance": []
  },
  "kernelspec": {
   "display_name": "Python 3",
   "language": "python",
   "name": "python3"
  },
  "language_info": {
   "codemirror_mode": {
    "name": "ipython",
    "version": 3
   },
   "file_extension": ".py",
   "mimetype": "text/x-python",
   "name": "python",
   "nbconvert_exporter": "python",
   "pygments_lexer": "ipython3",
   "version": "3.8.5"
  }
 },
 "nbformat": 4,
 "nbformat_minor": 1
}
