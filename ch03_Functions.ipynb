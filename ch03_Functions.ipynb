{
 "cells": [
  {
   "cell_type": "markdown",
   "metadata": {
    "colab_type": "text",
    "id": "c4GqfkTg8wTg"
   },
   "source": [
    "# Automate the Boring Stuff with Python\n",
    "# Chapter 03 Functions"
   ]
  },
  {
   "cell_type": "markdown",
   "metadata": {},
   "source": [
    "## Define, Call, Pass, Argument, Parameter"
   ]
  },
  {
   "cell_type": "code",
   "execution_count": 1,
   "metadata": {
    "colab": {},
    "colab_type": "code",
    "executionInfo": {
     "elapsed": 593,
     "status": "ok",
     "timestamp": 1600252381648,
     "user": {
      "displayName": "Yuh Chian Ong",
      "photoUrl": "https://lh3.googleusercontent.com/a-/AOh14GhfmfPrUiDMrg6OiM-lPmn5EUJsz0vJvjdFWAPKEA=s64",
      "userId": "03669281660437514692"
     },
     "user_tz": -540
    },
    "id": "ViwOOvG2cIA4"
   },
   "outputs": [
    {
     "name": "stdout",
     "output_type": "stream",
     "text": [
      "Hello Alice\n",
      "Hello Bob\n"
     ]
    }
   ],
   "source": [
    "def hello(name):  # Define (Parameter in brackets)\n",
    "    print('Hello ' + name)\n",
    "\n",
    "hello('Alice')    # Call (Argument in brackets)\n",
    "hello('Bob')      # Call"
   ]
  },
  {
   "cell_type": "code",
   "execution_count": 2,
   "metadata": {
    "colab": {
     "base_uri": "https://localhost:8080/",
     "height": 35
    },
    "colab_type": "code",
    "executionInfo": {
     "elapsed": 510,
     "status": "ok",
     "timestamp": 1600252384420,
     "user": {
      "displayName": "Yuh Chian Ong",
      "photoUrl": "https://lh3.googleusercontent.com/a-/AOh14GhfmfPrUiDMrg6OiM-lPmn5EUJsz0vJvjdFWAPKEA=s64",
      "userId": "03669281660437514692"
     },
     "user_tz": -540
    },
    "id": "5zkGitG_cc99",
    "outputId": "fdea0fa9-4d70-46b0-b148-e6726a264e45"
   },
   "outputs": [
    {
     "name": "stdout",
     "output_type": "stream",
     "text": [
      "6\n",
      "Concentrate and ask again\n"
     ]
    }
   ],
   "source": [
    "import random\n",
    "\n",
    "def getAnswer(answerNumber):\n",
    "    if answerNumber == 1:\n",
    "        return 'It is certain'\n",
    "    elif answerNumber == 2:\n",
    "        return 'It is decidedly so'\n",
    "    elif answerNumber == 3:\n",
    "        return 'Yes'\n",
    "    elif answerNumber == 4:\n",
    "        return 'Reply hazy try again'\n",
    "    elif answerNumber == 5:\n",
    "        return 'Ask again later'\n",
    "    elif answerNumber == 6:\n",
    "        return 'Concentrate and ask again'\n",
    "    elif answerNumber == 7:\n",
    "        return 'My reply is no'\n",
    "    elif answerNumber == 8:\n",
    "        return 'Outlook not so good'\n",
    "    elif answerNumber == 9:\n",
    "        return 'Very doubtful'\n",
    "\n",
    "r = random.randint(1, 9)\n",
    "print(r)\n",
    "fortune = getAnswer(r)\n",
    "print(fortune)"
   ]
  },
  {
   "cell_type": "code",
   "execution_count": 3,
   "metadata": {
    "colab": {
     "base_uri": "https://localhost:8080/",
     "height": 35
    },
    "colab_type": "code",
    "executionInfo": {
     "elapsed": 629,
     "status": "ok",
     "timestamp": 1600252385710,
     "user": {
      "displayName": "Yuh Chian Ong",
      "photoUrl": "https://lh3.googleusercontent.com/a-/AOh14GhfmfPrUiDMrg6OiM-lPmn5EUJsz0vJvjdFWAPKEA=s64",
      "userId": "03669281660437514692"
     },
     "user_tz": -540
    },
    "id": "SW5t0oHvcbfn",
    "outputId": "ed78bfec-f6ab-4d40-be80-1ff8bba2fd66"
   },
   "outputs": [
    {
     "name": "stdout",
     "output_type": "stream",
     "text": [
      "Ask again later\n"
     ]
    }
   ],
   "source": [
    "# Above cell needs to be run first\n",
    "\n",
    "print(getAnswer(random.randint(1, 9)))"
   ]
  },
  {
   "cell_type": "code",
   "execution_count": 4,
   "metadata": {
    "colab": {
     "base_uri": "https://localhost:8080/",
     "height": 35
    },
    "colab_type": "code",
    "executionInfo": {
     "elapsed": 462,
     "status": "ok",
     "timestamp": 1600252386721,
     "user": {
      "displayName": "Yuh Chian Ong",
      "photoUrl": "https://lh3.googleusercontent.com/a-/AOh14GhfmfPrUiDMrg6OiM-lPmn5EUJsz0vJvjdFWAPKEA=s64",
      "userId": "03669281660437514692"
     },
     "user_tz": -540
    },
    "id": "5kYop1qXcXU8",
    "outputId": "758930f8-ffac-44be-db60-480411f22722"
   },
   "outputs": [
    {
     "name": "stdout",
     "output_type": "stream",
     "text": [
      "Value 1\n"
     ]
    },
    {
     "data": {
      "text/plain": [
       "True"
      ]
     },
     "execution_count": 4,
     "metadata": {},
     "output_type": "execute_result"
    }
   ],
   "source": [
    "spam = print(\"Value 1\")\n",
    "spam == None"
   ]
  },
  {
   "cell_type": "markdown",
   "metadata": {
    "colab": {
     "base_uri": "https://localhost:8080/",
     "height": 35
    },
    "colab_type": "code",
    "executionInfo": {
     "elapsed": 501,
     "status": "ok",
     "timestamp": 1600252389437,
     "user": {
      "displayName": "Yuh Chian Ong",
      "photoUrl": "https://lh3.googleusercontent.com/a-/AOh14GhfmfPrUiDMrg6OiM-lPmn5EUJsz0vJvjdFWAPKEA=s64",
      "userId": "03669281660437514692"
     },
     "user_tz": -540
    },
    "id": "iF5K_ayecXtY",
    "outputId": "df8ca651-12fb-4d09-ea87-69383c9731d4"
   },
   "source": [
    "## Keyword Arguments"
   ]
  },
  {
   "cell_type": "code",
   "execution_count": 5,
   "metadata": {
    "colab": {
     "base_uri": "https://localhost:8080/",
     "height": 35
    },
    "colab_type": "code",
    "executionInfo": {
     "elapsed": 542,
     "status": "ok",
     "timestamp": 1600252391204,
     "user": {
      "displayName": "Yuh Chian Ong",
      "photoUrl": "https://lh3.googleusercontent.com/a-/AOh14GhfmfPrUiDMrg6OiM-lPmn5EUJsz0vJvjdFWAPKEA=s64",
      "userId": "03669281660437514692"
     },
     "user_tz": -540
    },
    "id": "P_r0C5b4cXl3",
    "outputId": "7e33497d-15a6-42b7-ffb8-9951888b9ed3"
   },
   "outputs": [
    {
     "name": "stdout",
     "output_type": "stream",
     "text": [
      "+,*,$,&|+.*.$.&\n",
      "\n",
      "+-*-$-&\n"
     ]
    }
   ],
   "source": [
    "print('+', '*', '$', '&', sep=',', end='|')\n",
    "print('+', '*', '$', '&', sep='.', end='\\n\\n')\n",
    "print('+', '*', '$', '&', sep='-')"
   ]
  },
  {
   "cell_type": "markdown",
   "metadata": {},
   "source": [
    "## Function Call Stack"
   ]
  },
  {
   "cell_type": "code",
   "execution_count": 6,
   "metadata": {
    "colab": {
     "base_uri": "https://localhost:8080/",
     "height": 35
    },
    "colab_type": "code",
    "executionInfo": {
     "elapsed": 480,
     "status": "ok",
     "timestamp": 1600252392632,
     "user": {
      "displayName": "Yuh Chian Ong",
      "photoUrl": "https://lh3.googleusercontent.com/a-/AOh14GhfmfPrUiDMrg6OiM-lPmn5EUJsz0vJvjdFWAPKEA=s64",
      "userId": "03669281660437514692"
     },
     "user_tz": -540
    },
    "id": "2op4CX17cXGI",
    "outputId": "635ce542-0d14-4752-b609-c47c6532248d"
   },
   "outputs": [
    {
     "name": "stdout",
     "output_type": "stream",
     "text": [
      "a() starts\n",
      "b() starts\n",
      "c() starts\n",
      "c() returns\n",
      "b() returns\n",
      "d() starts\n",
      "d() returns\n",
      "a() returns\n"
     ]
    }
   ],
   "source": [
    "def a():\n",
    "    print('a() starts')\n",
    "    b()\n",
    "    d()\n",
    "    print('a() returns')\n",
    "\n",
    "def b():\n",
    "    print('b() starts')\n",
    "    c()\n",
    "    print('b() returns')\n",
    "\n",
    "def c():\n",
    "    print('c() starts')\n",
    "    print('c() returns')\n",
    "\n",
    "def d():\n",
    "    print('d() starts')\n",
    "    print('d() returns')\n",
    "\n",
    "a()"
   ]
  },
  {
   "cell_type": "markdown",
   "metadata": {
    "colab_type": "text",
    "id": "dc-nj2_pecLe"
   },
   "source": [
    "## Local and Global Scopes"
   ]
  },
  {
   "cell_type": "code",
   "execution_count": 7,
   "metadata": {
    "colab": {
     "base_uri": "https://localhost:8080/",
     "height": 35
    },
    "colab_type": "code",
    "executionInfo": {
     "elapsed": 1113,
     "status": "ok",
     "timestamp": 1600252817539,
     "user": {
      "displayName": "Yuh Chian Ong",
      "photoUrl": "https://lh3.googleusercontent.com/a-/AOh14GhfmfPrUiDMrg6OiM-lPmn5EUJsz0vJvjdFWAPKEA=s64",
      "userId": "03669281660437514692"
     },
     "user_tz": -540
    },
    "id": "OquovwGNerb2",
    "outputId": "8d150a2c-7f13-46ae-c72f-f0da151b3875"
   },
   "outputs": [
    {
     "name": "stdout",
     "output_type": "stream",
     "text": [
      "99\n"
     ]
    }
   ],
   "source": [
    "# Local scopes cannot change global scopes\n",
    "\n",
    "def spam():\n",
    "    eggs = 99\n",
    "    bacon()\n",
    "    print(eggs)\n",
    "\n",
    "def bacon():\n",
    "    ham = 101\n",
    "    eggs = 0\n",
    "\n",
    "spam()"
   ]
  },
  {
   "cell_type": "code",
   "execution_count": 8,
   "metadata": {},
   "outputs": [
    {
     "name": "stdout",
     "output_type": "stream",
     "text": [
      "42\n",
      "42\n"
     ]
    }
   ],
   "source": [
    "# Global scopes can be read from local scopes\n",
    "\n",
    "def spam():\n",
    "    print(eggs)\n",
    "eggs = 42\n",
    "spam()\n",
    "print(eggs)"
   ]
  },
  {
   "cell_type": "code",
   "execution_count": 9,
   "metadata": {},
   "outputs": [
    {
     "name": "stdout",
     "output_type": "stream",
     "text": [
      "bacon local\n",
      "spam local\n",
      "bacon local\n",
      "global\n"
     ]
    }
   ],
   "source": [
    "# Possible but Confusing if use same names\n",
    "\n",
    "def spam():\n",
    "    eggs = 'spam local'\n",
    "    print(eggs)    # prints 'spam local'\n",
    "\n",
    "def bacon():\n",
    "    eggs = 'bacon local'\n",
    "    print(eggs)    # prints 'bacon local'\n",
    "    spam()\n",
    "    print(eggs)    # prints 'bacon local'\n",
    "\n",
    "eggs = 'global'\n",
    "bacon()\n",
    "print(eggs)        # prints 'global'"
   ]
  },
  {
   "cell_type": "code",
   "execution_count": 10,
   "metadata": {},
   "outputs": [
    {
     "name": "stdout",
     "output_type": "stream",
     "text": [
      "spam\n"
     ]
    }
   ],
   "source": [
    "# Possible to change global variable from local context\n",
    "\n",
    "def spam():\n",
    "    global eggs\n",
    "    eggs = 'spam'\n",
    "\n",
    "eggs = 'global'\n",
    "spam()\n",
    "print(eggs)"
   ]
  },
  {
   "cell_type": "code",
   "execution_count": 11,
   "metadata": {},
   "outputs": [
    {
     "name": "stdout",
     "output_type": "stream",
     "text": [
      "spam\n"
     ]
    }
   ],
   "source": [
    "# Local vs Global\n",
    "\n",
    "def spam():\n",
    "    global eggs\n",
    "    eggs = 'spam' # this is the global\n",
    "\n",
    "def bacon():\n",
    "    eggs = 'bacon' # this is a local\n",
    "\n",
    "def ham():\n",
    "    print(eggs) # this is the global\n",
    "    \n",
    "eggs = 42 # this is the global\n",
    "spam()\n",
    "print(eggs)"
   ]
  },
  {
   "cell_type": "code",
   "execution_count": 12,
   "metadata": {},
   "outputs": [
    {
     "ename": "UnboundLocalError",
     "evalue": "local variable 'eggs' referenced before assignment",
     "output_type": "error",
     "traceback": [
      "\u001b[0;31m---------------------------------------------------------------------------\u001b[0m",
      "\u001b[0;31mUnboundLocalError\u001b[0m                         Traceback (most recent call last)",
      "\u001b[0;32m<ipython-input-12-16951f77ab3e>\u001b[0m in \u001b[0;36m<module>\u001b[0;34m\u001b[0m\n\u001b[1;32m      6\u001b[0m \u001b[0;34m\u001b[0m\u001b[0m\n\u001b[1;32m      7\u001b[0m \u001b[0meggs\u001b[0m \u001b[0;34m=\u001b[0m \u001b[0;34m'global'\u001b[0m\u001b[0;34m\u001b[0m\u001b[0;34m\u001b[0m\u001b[0m\n\u001b[0;32m----> 8\u001b[0;31m \u001b[0mspam\u001b[0m\u001b[0;34m(\u001b[0m\u001b[0;34m)\u001b[0m\u001b[0;34m\u001b[0m\u001b[0;34m\u001b[0m\u001b[0m\n\u001b[0m",
      "\u001b[0;32m<ipython-input-12-16951f77ab3e>\u001b[0m in \u001b[0;36mspam\u001b[0;34m()\u001b[0m\n\u001b[1;32m      2\u001b[0m \u001b[0;34m\u001b[0m\u001b[0m\n\u001b[1;32m      3\u001b[0m \u001b[0;32mdef\u001b[0m \u001b[0mspam\u001b[0m\u001b[0;34m(\u001b[0m\u001b[0;34m)\u001b[0m\u001b[0;34m:\u001b[0m\u001b[0;34m\u001b[0m\u001b[0;34m\u001b[0m\u001b[0m\n\u001b[0;32m----> 4\u001b[0;31m     \u001b[0mprint\u001b[0m\u001b[0;34m(\u001b[0m\u001b[0meggs\u001b[0m\u001b[0;34m)\u001b[0m \u001b[0;31m# ERROR!\u001b[0m\u001b[0;34m\u001b[0m\u001b[0;34m\u001b[0m\u001b[0m\n\u001b[0m\u001b[1;32m      5\u001b[0m     \u001b[0meggs\u001b[0m \u001b[0;34m=\u001b[0m \u001b[0;34m'spam local'\u001b[0m\u001b[0;34m\u001b[0m\u001b[0;34m\u001b[0m\u001b[0m\n\u001b[1;32m      6\u001b[0m \u001b[0;34m\u001b[0m\u001b[0m\n",
      "\u001b[0;31mUnboundLocalError\u001b[0m: local variable 'eggs' referenced before assignment"
     ]
    }
   ],
   "source": [
    "# Variable treated as local if there is an assignment in the function\n",
    "\n",
    "def spam():\n",
    "    print(eggs) # ERROR!\n",
    "    eggs = 'spam local'\n",
    "    \n",
    "eggs = 'global'\n",
    "spam()"
   ]
  },
  {
   "cell_type": "markdown",
   "metadata": {},
   "source": [
    "## Exception Handling"
   ]
  },
  {
   "cell_type": "code",
   "execution_count": null,
   "metadata": {},
   "outputs": [],
   "source": [
    "def spam(divideBy):\n",
    "    try:\n",
    "        return 42 / divideBy\n",
    "    except ZeroDivisionError:\n",
    "        print('Error: Invalid argument.')\n",
    "\n",
    "print(spam(2))\n",
    "print(spam(12))\n",
    "print(spam(0))\n",
    "print(spam(1))"
   ]
  },
  {
   "cell_type": "code",
   "execution_count": null,
   "metadata": {},
   "outputs": [],
   "source": [
    "# Except stops the program\n",
    "\n",
    "def spam(divideBy):\n",
    "    return 42 / divideBy\n",
    "\n",
    "try:\n",
    "    print(spam(2))\n",
    "    print(spam(12))\n",
    "    print(spam(0))\n",
    "    print(spam(1))\n",
    "except ZeroDivisionError:\n",
    "    print('Error: Invalid argument.')"
   ]
  },
  {
   "cell_type": "markdown",
   "metadata": {},
   "source": [
    "## Project: Zig Zag"
   ]
  },
  {
   "cell_type": "code",
   "execution_count": null,
   "metadata": {},
   "outputs": [],
   "source": [
    "import time, sys\n",
    "indent = 0 # How many spaces to indent.\n",
    "indentIncreasing = True # Whether the indentation is increasing or not.\n",
    "\n",
    "try:\n",
    "    while True: # The main program loop.\n",
    "        print(' ' * indent, end='')\n",
    "        print('********')\n",
    "        time.sleep(0.1) # Pause for 1/10 of a second.\n",
    "\n",
    "        if indentIncreasing:\n",
    "            # Increase the number of spaces:\n",
    "            indent = indent + 1\n",
    "            if indent == 20:\n",
    "                # Change direction:\n",
    "                indentIncreasing = False\n",
    "\n",
    "        else:\n",
    "            # Decrease the number of spaces:\n",
    "            indent = indent - 1\n",
    "            if indent == 0:\n",
    "                # Change direction:\n",
    "                indentIncreasing = True\n",
    "except KeyboardInterrupt:\n",
    "    sys.exit()"
   ]
  },
  {
   "cell_type": "markdown",
   "metadata": {},
   "source": [
    " ## Practice Questions"
   ]
  },
  {
   "cell_type": "markdown",
   "metadata": {},
   "source": [
    "1. Why are functions advantageous to have in your programs?\n",
    "\n",
    "    - DRY = Don't Repeat Yourself\n",
    "    - Modular and adaptable to other code\n",
    "\n",
    "2. When does the code in a function execute: when the function is defined or when the function is called?\n",
    "\n",
    "    - when called\n",
    "\n",
    "3. What statement creates a function?\n",
    "\n",
    "    - define statement\n",
    "    \n",
    "4. What is the difference between a function and a function call?\n",
    "\n",
    "    - \n",
    "\n",
    "5. How many global scopes are there in a Python program? How many local scopes?\n",
    "\n",
    "    - global is 1\n",
    "    - local is as many as function calls (possibly inifinite)\n",
    "\n",
    "6. What happens to variables in a local scope when the function call returns?\n",
    "\n",
    "    - forgotten\n",
    "\n",
    "7. What is a return value? Can a return value be part of an expression?\n",
    "\n",
    "    - value that a function call evaluates to\n",
    "\n",
    "8. If a function does not have a return statement, what is the return value of a call to that function?\n",
    "\n",
    "    - None\n",
    "\n",
    "9. How can you force a variable in a function to refer to the global variable?\n",
    "\n",
    "    - global statement\n",
    "\n",
    "10. What is the data type of None?\n",
    "\n",
    "    - None type\n",
    "\n",
    "11. What does the import areallyourpetsnamederic statement do?\n",
    "\n",
    "    - imports the module areallyourpetsnamederic\n",
    "    - includes variables defined, including functions\n",
    "\n",
    "12. If you had a function named bacon() in a module named spam, how would you call it after importing spam?\n",
    "\n",
    "    - spam.bacon()\n",
    "\n",
    "13. How can you prevent a program from crashing when it gets an error?\n",
    "\n",
    "    - try... except...\n",
    "\n",
    "14. What goes in the try clause? What goes in the except clause?\n",
    "\n",
    "    - try: < possibly erroneous code >\n",
    "    - except: < response to the error >\n"
   ]
  }
 ],
 "metadata": {
  "colab": {
   "authorship_tag": "ABX9TyN/ocIKnr0ZExSUWjxY+hbx",
   "collapsed_sections": [
    "Yus6BuF2ZaNS"
   ],
   "name": "12 Web Scraping.ipynb",
   "provenance": [],
   "toc_visible": true
  },
  "kernelspec": {
   "display_name": "Python 3",
   "language": "python",
   "name": "python3"
  },
  "language_info": {
   "codemirror_mode": {
    "name": "ipython",
    "version": 3
   },
   "file_extension": ".py",
   "mimetype": "text/x-python",
   "name": "python",
   "nbconvert_exporter": "python",
   "pygments_lexer": "ipython3",
   "version": "3.8.5"
  }
 },
 "nbformat": 4,
 "nbformat_minor": 1
}
