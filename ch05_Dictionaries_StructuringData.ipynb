{
 "cells": [
  {
   "cell_type": "markdown",
   "metadata": {
    "id": "z6OAHB0RFAHz"
   },
   "source": [
    "# Automate the Boring Stuff with Python\n",
    "# Chapter 05 Dictionaries & Structuring Data"
   ]
  },
  {
   "cell_type": "markdown",
   "metadata": {
    "id": "kbXSwIue9OYr"
   },
   "source": [
    "## The Dictionary Data Type"
   ]
  },
  {
   "cell_type": "code",
   "execution_count": 9,
   "metadata": {
    "executionInfo": {
     "elapsed": 734,
     "status": "ok",
     "timestamp": 1606286638281,
     "user": {
      "displayName": "Yuh Chian Ong",
      "photoUrl": "https://lh3.googleusercontent.com/a-/AOh14GhfmfPrUiDMrg6OiM-lPmn5EUJsz0vJvjdFWAPKEA=s64",
      "userId": "03669281660437514692"
     },
     "user_tz": -540
    },
    "id": "QjY8JVkPHQiX"
   },
   "outputs": [],
   "source": [
    "# Assigning a dictionary (note use of curly braces)\n",
    "# Keys can be any immutable data type, including primitives & tuples\n",
    "\n",
    "dict_a = {'size': 'tiny', 1234.5: 'locker'}\n",
    "\n",
    "# You can add entries by assigning values to the keys\n",
    "\n",
    "dict_a[(42, 'answer')] = 'Hitchhiker' "
   ]
  },
  {
   "cell_type": "code",
   "execution_count": 8,
   "metadata": {
    "colab": {
     "base_uri": "https://localhost:8080/"
    },
    "executionInfo": {
     "elapsed": 721,
     "status": "ok",
     "timestamp": 1606286626403,
     "user": {
      "displayName": "Yuh Chian Ong",
      "photoUrl": "https://lh3.googleusercontent.com/a-/AOh14GhfmfPrUiDMrg6OiM-lPmn5EUJsz0vJvjdFWAPKEA=s64",
      "userId": "03669281660437514692"
     },
     "user_tz": -540
    },
    "id": "gvdWa-mTHxwj",
    "outputId": "e3d89c6b-5a10-43e3-f264-fc7fb5d44bf7"
   },
   "outputs": [
    {
     "name": "stdout",
     "output_type": "stream",
     "text": [
      "fat\n",
      "locker\n",
      "Hitchhiker\n"
     ]
    }
   ],
   "source": [
    "# Assessing values in a dictionary through its key (note use of square brackets)\n",
    "\n",
    "print( dict_a['size'] )\n",
    "\n",
    "print( dict_a[1234.5] )\n",
    "\n",
    "print( dict_a[(42, 'answer')] )\n"
   ]
  },
  {
   "cell_type": "markdown",
   "metadata": {
    "id": "tCtFHEiGJVcr"
   },
   "source": [
    "### Dictionaries vs Lists"
   ]
  },
  {
   "cell_type": "markdown",
   "metadata": {
    "id": "EstvmfJCJaXk"
   },
   "source": [
    "#### Dictionaries are Unordered"
   ]
  },
  {
   "cell_type": "code",
   "execution_count": 12,
   "metadata": {
    "colab": {
     "base_uri": "https://localhost:8080/"
    },
    "executionInfo": {
     "elapsed": 716,
     "status": "ok",
     "timestamp": 1606286871556,
     "user": {
      "displayName": "Yuh Chian Ong",
      "photoUrl": "https://lh3.googleusercontent.com/a-/AOh14GhfmfPrUiDMrg6OiM-lPmn5EUJsz0vJvjdFWAPKEA=s64",
      "userId": "03669281660437514692"
     },
     "user_tz": -540
    },
    "id": "2uYNtMEbJQzt",
    "outputId": "76f31cc4-05c8-4a29-9d85-8d693e8c24d2"
   },
   "outputs": [
    {
     "name": "stdout",
     "output_type": "stream",
     "text": [
      "Lists are unordered:  False\n",
      "Dicionaries are unordered:  True\n"
     ]
    }
   ],
   "source": [
    "# Lists must be ordered the same way to be identical\n",
    "\n",
    "list_a = [1, 2, 3]\n",
    "list_b = [3, 2, 1]\n",
    "\n",
    "print(\"Lists are unordered: \", list_a == list_b )\n",
    "\n",
    "dict_b = {1:'a', 2:'b', 3:'c'}\n",
    "dict_c = {3:'c', 2:'b', 1:'a'}\n",
    "\n",
    "print(\"Dicionaries are unordered: \", dict_b == dict_c )"
   ]
  },
  {
   "cell_type": "code",
   "execution_count": 14,
   "metadata": {
    "colab": {
     "base_uri": "https://localhost:8080/",
     "height": 198
    },
    "executionInfo": {
     "elapsed": 687,
     "status": "error",
     "timestamp": 1606286968742,
     "user": {
      "displayName": "Yuh Chian Ong",
      "photoUrl": "https://lh3.googleusercontent.com/a-/AOh14GhfmfPrUiDMrg6OiM-lPmn5EUJsz0vJvjdFWAPKEA=s64",
      "userId": "03669281660437514692"
     },
     "user_tz": -540
    },
    "id": "00noBxAhKPep",
    "outputId": "0634b26c-54cf-47c1-9fce-d1605b3f01a7"
   },
   "outputs": [
    {
     "ename": "TypeError",
     "evalue": "ignored",
     "output_type": "error",
     "traceback": [
      "\u001b[0;31m---------------------------------------------------------------------------\u001b[0m",
      "\u001b[0;31mTypeError\u001b[0m                                 Traceback (most recent call last)",
      "\u001b[0;32m<ipython-input-14-f98fa6ad38ca>\u001b[0m in \u001b[0;36m<module>\u001b[0;34m()\u001b[0m\n\u001b[1;32m      1\u001b[0m \u001b[0;31m# Therefore Dictionaries cannot be sliced\u001b[0m\u001b[0;34m\u001b[0m\u001b[0;34m\u001b[0m\u001b[0;34m\u001b[0m\u001b[0m\n\u001b[1;32m      2\u001b[0m \u001b[0;34m\u001b[0m\u001b[0m\n\u001b[0;32m----> 3\u001b[0;31m \u001b[0mdict_b\u001b[0m\u001b[0;34m[\u001b[0m\u001b[0;34m:\u001b[0m\u001b[0;34m]\u001b[0m\u001b[0;34m\u001b[0m\u001b[0;34m\u001b[0m\u001b[0m\n\u001b[0m",
      "\u001b[0;31mTypeError\u001b[0m: unhashable type: 'slice'"
     ]
    }
   ],
   "source": [
    "# Therefore Dictionaries cannot be sliced\n",
    "\n",
    "dict_b[:]"
   ]
  },
  {
   "cell_type": "code",
   "execution_count": 15,
   "metadata": {
    "colab": {
     "base_uri": "https://localhost:8080/",
     "height": 198
    },
    "executionInfo": {
     "elapsed": 681,
     "status": "error",
     "timestamp": 1606286999357,
     "user": {
      "displayName": "Yuh Chian Ong",
      "photoUrl": "https://lh3.googleusercontent.com/a-/AOh14GhfmfPrUiDMrg6OiM-lPmn5EUJsz0vJvjdFWAPKEA=s64",
      "userId": "03669281660437514692"
     },
     "user_tz": -540
    },
    "id": "Sra1HT00Kc5-",
    "outputId": "1c3077bc-e647-4962-909b-d75e9e97f5d6"
   },
   "outputs": [
    {
     "ename": "KeyError",
     "evalue": "ignored",
     "output_type": "error",
     "traceback": [
      "\u001b[0;31m---------------------------------------------------------------------------\u001b[0m",
      "\u001b[0;31mKeyError\u001b[0m                                  Traceback (most recent call last)",
      "\u001b[0;32m<ipython-input-15-3fb76d840fa9>\u001b[0m in \u001b[0;36m<module>\u001b[0;34m()\u001b[0m\n\u001b[1;32m      1\u001b[0m \u001b[0;31m# Accessing a key that does not exist causes IndexError\u001b[0m\u001b[0;34m\u001b[0m\u001b[0;34m\u001b[0m\u001b[0;34m\u001b[0m\u001b[0m\n\u001b[1;32m      2\u001b[0m \u001b[0;34m\u001b[0m\u001b[0m\n\u001b[0;32m----> 3\u001b[0;31m \u001b[0mdict_b\u001b[0m\u001b[0;34m[\u001b[0m\u001b[0;36m0\u001b[0m\u001b[0;34m]\u001b[0m\u001b[0;34m\u001b[0m\u001b[0;34m\u001b[0m\u001b[0m\n\u001b[0m",
      "\u001b[0;31mKeyError\u001b[0m: 0"
     ]
    }
   ],
   "source": [
    "# Accessing a key that does not exist causes KeyError \n",
    "# (similar to List's IndexError)\n",
    "# (note: this behaviour is overridden in DefaultDicts)\n",
    "\n",
    "dict_b[0]"
   ]
  },
  {
   "cell_type": "code",
   "execution_count": 19,
   "metadata": {
    "executionInfo": {
     "elapsed": 659,
     "status": "ok",
     "timestamp": 1606287320786,
     "user": {
      "displayName": "Yuh Chian Ong",
      "photoUrl": "https://lh3.googleusercontent.com/a-/AOh14GhfmfPrUiDMrg6OiM-lPmn5EUJsz0vJvjdFWAPKEA=s64",
      "userId": "03669281660437514692"
     },
     "user_tz": -540
    },
    "id": "xEtswtm-LzmS"
   },
   "outputs": [],
   "source": [
    "# Store data\n",
    "\n",
    "birthdays = {'Alice': 'Apr 4', 'Bob': 'Dec 12'}"
   ]
  },
  {
   "cell_type": "code",
   "execution_count": 21,
   "metadata": {
    "colab": {
     "base_uri": "https://localhost:8080/"
    },
    "executionInfo": {
     "elapsed": 848,
     "status": "ok",
     "timestamp": 1606287325604,
     "user": {
      "displayName": "Yuh Chian Ong",
      "photoUrl": "https://lh3.googleusercontent.com/a-/AOh14GhfmfPrUiDMrg6OiM-lPmn5EUJsz0vJvjdFWAPKEA=s64",
      "userId": "03669281660437514692"
     },
     "user_tz": -540
    },
    "id": "hCI_pNUeK8QU",
    "outputId": "73e6a8d1-f249-439b-abfa-9f8b2767e41c"
   },
   "outputs": [
    {
     "name": "stdout",
     "output_type": "stream",
     "text": [
      "Mar 3 is the birthday of Carol\n"
     ]
    }
   ],
   "source": [
    "# Most common use\n",
    "\n",
    "name = 'Carol'\n",
    "n_bday = 'Mar 3'\n",
    "\n",
    "if name in birthdays:\n",
    "    print(birthdays[name] + ' is the birthday of ' + name)\n",
    "else:\n",
    "    birthdays[name] = n_bday\n",
    "    print('Birthday database updated')"
   ]
  },
  {
   "cell_type": "markdown",
   "metadata": {
    "id": "9bMLo0NDKMqS"
   },
   "source": [
    "### The *keys(), values(), and items()* Methods"
   ]
  },
  {
   "cell_type": "code",
   "execution_count": 31,
   "metadata": {
    "colab": {
     "base_uri": "https://localhost:8080/"
    },
    "executionInfo": {
     "elapsed": 817,
     "status": "ok",
     "timestamp": 1606287806789,
     "user": {
      "displayName": "Yuh Chian Ong",
      "photoUrl": "https://lh3.googleusercontent.com/a-/AOh14GhfmfPrUiDMrg6OiM-lPmn5EUJsz0vJvjdFWAPKEA=s64",
      "userId": "03669281660437514692"
     },
     "user_tz": -540
    },
    "id": "sM-CbppwMEkO",
    "outputId": "7ea70c71-1405-4766-d23f-d0cf127e7abd"
   },
   "outputs": [
    {
     "name": "stdout",
     "output_type": "stream",
     "text": [
      "Return value of birthdays.keys() belongs to  <class 'dict_keys'>\n",
      "Return value of birthdays.values() belongs to  <class 'dict_values'>\n",
      "Return value of birthdays.items() belongs to  <class 'dict_items'>\n"
     ]
    },
    {
     "data": {
      "text/plain": [
       "['Alice', 'Bob', 'Carol']"
      ]
     },
     "execution_count": 31,
     "metadata": {
      "tags": []
     },
     "output_type": "execute_result"
    }
   ],
   "source": [
    "# Note that the return value of these 3 methods are not Lists!\n",
    "\n",
    "print('Return value of birthdays.keys() belongs to ', type( birthdays.keys() ) )\n",
    "print('Return value of birthdays.values() belongs to ', type( birthdays.values() ) )\n",
    "print('Return value of birthdays.items() belongs to ', type( birthdays.items() ) )\n",
    "\n",
    "# The implication: you cannot directly change it nor use indexing/slicing \n",
    "\n",
    "# birthdays.keys()[0]  # <-- run this to see the error\n",
    "# birthdays.keys().append(0) # <-- run this to see the error\n",
    "\n",
    "# BUT you can pass it to the list() function\n",
    "list(birthdays.keys())"
   ]
  },
  {
   "cell_type": "code",
   "execution_count": 34,
   "metadata": {
    "colab": {
     "base_uri": "https://localhost:8080/"
    },
    "executionInfo": {
     "elapsed": 651,
     "status": "ok",
     "timestamp": 1606287912753,
     "user": {
      "displayName": "Yuh Chian Ong",
      "photoUrl": "https://lh3.googleusercontent.com/a-/AOh14GhfmfPrUiDMrg6OiM-lPmn5EUJsz0vJvjdFWAPKEA=s64",
      "userId": "03669281660437514692"
     },
     "user_tz": -540
    },
    "id": "xcGBSka3N04v",
    "outputId": "42846c29-d494-48e0-8ad9-894699c1d565"
   },
   "outputs": [
    {
     "name": "stdout",
     "output_type": "stream",
     "text": [
      "Alice\n",
      "Bob\n",
      "Carol\n",
      "Apr 4\n",
      "Dec 12\n",
      "Mar 3\n",
      "Alice Apr 4\n",
      "Bob Dec 12\n",
      "Carol Mar 3\n"
     ]
    }
   ],
   "source": [
    "# Iterating over the values\n",
    "\n",
    "for i in birthdays.keys():\n",
    "    print(i)\n",
    "\n",
    "for j in birthdays.values():\n",
    "    print(j)\n",
    "\n",
    "for m, n in birthdays.items():  # Note the multiple assignment!\n",
    "    print(m, n)"
   ]
  },
  {
   "cell_type": "code",
   "execution_count": 35,
   "metadata": {
    "colab": {
     "base_uri": "https://localhost:8080/"
    },
    "executionInfo": {
     "elapsed": 729,
     "status": "ok",
     "timestamp": 1606287968788,
     "user": {
      "displayName": "Yuh Chian Ong",
      "photoUrl": "https://lh3.googleusercontent.com/a-/AOh14GhfmfPrUiDMrg6OiM-lPmn5EUJsz0vJvjdFWAPKEA=s64",
      "userId": "03669281660437514692"
     },
     "user_tz": -540
    },
    "id": "LjQAOq0mOM91",
    "outputId": "67b48917-52b3-4d7c-dc1e-3746e3e7d00e"
   },
   "outputs": [
    {
     "name": "stdout",
     "output_type": "stream",
     "text": [
      "Alice\n",
      "Bob\n",
      "Carol\n"
     ]
    }
   ],
   "source": [
    "# Without using any of the above 3 methods\n",
    "# What is the default behaviour of the for loop below?\n",
    "\n",
    "for p in birthdays:\n",
    "    print(p)"
   ]
  },
  {
   "cell_type": "markdown",
   "metadata": {
    "id": "H65hiHLQOfWU"
   },
   "source": [
    "#### Checking Whether a Key or Value Exists in a Dictionary"
   ]
  },
  {
   "cell_type": "code",
   "execution_count": 41,
   "metadata": {
    "colab": {
     "base_uri": "https://localhost:8080/"
    },
    "executionInfo": {
     "elapsed": 600,
     "status": "ok",
     "timestamp": 1606288259875,
     "user": {
      "displayName": "Yuh Chian Ong",
      "photoUrl": "https://lh3.googleusercontent.com/a-/AOh14GhfmfPrUiDMrg6OiM-lPmn5EUJsz0vJvjdFWAPKEA=s64",
      "userId": "03669281660437514692"
     },
     "user_tz": -540
    },
    "id": "Owjp6X2aOkUt",
    "outputId": "e6c67327-2282-4233-ead9-ee7dd79cd6a1"
   },
   "outputs": [
    {
     "name": "stdout",
     "output_type": "stream",
     "text": [
      "The key Alice exists in the dict.keys():  True\n",
      "The value Apr 4 exists in the dict.values():  True\n",
      "The key Alice exists in the dict.items():  False\n",
      "The key Alice exists in the dict:  True\n",
      "The value Apr 4 exists in the dict:  False\n"
     ]
    }
   ],
   "source": [
    "# Checking if the key exists in a dictionary\n",
    "\n",
    "print('The key Alice exists in the dict.keys(): ', 'Alice' in birthdays.keys() )\n",
    "\n",
    "# Checking if the value exists in a dictionary\n",
    "\n",
    "print('The value Apr 4 exists in the dict.values(): ', 'Apr 4' in birthdays.values() )\n",
    "\n",
    "# BUT what is the default outcome of the following?\n",
    "\n",
    "print('The key Alice exists in the dict.items(): ', 'Alice' in birthdays.items() )\n",
    "\n",
    "print('The key Alice exists in the dict: ', 'Alice' in birthdays )\n",
    "\n",
    "print('The value Apr 4 exists in the dict: ', 'Apr 4' in birthdays )"
   ]
  },
  {
   "cell_type": "markdown",
   "metadata": {
    "id": "cA8HvKKhStfF"
   },
   "source": [
    "### If Key/Value Does Not Exist in Dictionary"
   ]
  },
  {
   "cell_type": "markdown",
   "metadata": {
    "id": "7tfCCPMhPfMF"
   },
   "source": [
    "#### The *get()* Method"
   ]
  },
  {
   "cell_type": "code",
   "execution_count": 44,
   "metadata": {
    "colab": {
     "base_uri": "https://localhost:8080/",
     "height": 35
    },
    "executionInfo": {
     "elapsed": 643,
     "status": "ok",
     "timestamp": 1606288409938,
     "user": {
      "displayName": "Yuh Chian Ong",
      "photoUrl": "https://lh3.googleusercontent.com/a-/AOh14GhfmfPrUiDMrg6OiM-lPmn5EUJsz0vJvjdFWAPKEA=s64",
      "userId": "03669281660437514692"
     },
     "user_tz": -540
    },
    "id": "dn2gKDiOPjIu",
    "outputId": "7e11ba1e-3caa-4221-bb1e-447f46a74434"
   },
   "outputs": [
    {
     "data": {
      "application/vnd.google.colaboratory.intrinsic+json": {
       "type": "string"
      },
      "text/plain": [
       "'I am bringing 0 eggs'"
      ]
     },
     "execution_count": 44,
     "metadata": {
      "tags": []
     },
     "output_type": "execute_result"
    }
   ],
   "source": [
    "# Too tedious to check if the key exists before accessing!\n",
    "# Use get() method to prevent error\n",
    "\n",
    "picnicItems = {'apples': 5, 'cups': 2}\n",
    "\n",
    "'I am bringing ' + str(picnicItems.get('eggs', 0)) + ' eggs'\n",
    "\n",
    "# get() method has 2 parameters: get(<KEY>, <DEFAULT RETURN IF KEY NOT EXIST>)"
   ]
  },
  {
   "cell_type": "markdown",
   "metadata": {
    "id": "cboKpTWJQTO3"
   },
   "source": [
    "#### The *setdefault()* Method"
   ]
  },
  {
   "cell_type": "code",
   "execution_count": 49,
   "metadata": {
    "executionInfo": {
     "elapsed": 621,
     "status": "ok",
     "timestamp": 1606288871808,
     "user": {
      "displayName": "Yuh Chian Ong",
      "photoUrl": "https://lh3.googleusercontent.com/a-/AOh14GhfmfPrUiDMrg6OiM-lPmn5EUJsz0vJvjdFWAPKEA=s64",
      "userId": "03669281660437514692"
     },
     "user_tz": -540
    },
    "id": "RaptuMBxQZpF"
   },
   "outputs": [],
   "source": [
    "# Assuming that dogs are default black if not specified\n",
    "\n",
    "dog = {'name': 'Pooka', 'age': 5}\n",
    "if 'color' not in dog:\n",
    "    dog['color'] = 'black'\n",
    "\n",
    "# Note that this code will not assign a new color if something it exists!"
   ]
  },
  {
   "cell_type": "code",
   "execution_count": 48,
   "metadata": {
    "colab": {
     "base_uri": "https://localhost:8080/"
    },
    "executionInfo": {
     "elapsed": 744,
     "status": "ok",
     "timestamp": 1606288866544,
     "user": {
      "displayName": "Yuh Chian Ong",
      "photoUrl": "https://lh3.googleusercontent.com/a-/AOh14GhfmfPrUiDMrg6OiM-lPmn5EUJsz0vJvjdFWAPKEA=s64",
      "userId": "03669281660437514692"
     },
     "user_tz": -540
    },
    "id": "EggDLZGFQtL8",
    "outputId": "1cebae92-457c-41d6-edff-11f91468b413"
   },
   "outputs": [
    {
     "name": "stdout",
     "output_type": "stream",
     "text": [
      "In the above cell, we already set the dog color as : black\n",
      "Even if you run setdefault again, the dog color remains : black\n"
     ]
    }
   ],
   "source": [
    "# We can automate the above \n",
    "\n",
    "print('In the above cell, we already set the dog color as :', dog['color'])\n",
    "\n",
    "dog.setdefault('color', 'white')\n",
    "print('Even if you run setdefault again, the dog color remains :', dog['color'])\n",
    "\n",
    "# This method is useful as a post-check to ensure that all instances have\n",
    "# at least a default value if not already specified\n",
    "# It's the write version of get method"
   ]
  },
  {
   "cell_type": "markdown",
   "metadata": {
    "id": "Vh-kNbgqSDhc"
   },
   "source": [
    "## Pretty Printing"
   ]
  },
  {
   "cell_type": "code",
   "execution_count": null,
   "metadata": {
    "id": "Nof6KulvSTAm"
   },
   "outputs": [],
   "source": []
  },
  {
   "cell_type": "markdown",
   "metadata": {
    "id": "3Ob-o2tHSTaQ"
   },
   "source": [
    "## Using Data Structures to Model Real-World Things"
   ]
  },
  {
   "cell_type": "code",
   "execution_count": null,
   "metadata": {
    "id": "iOH6uNkcSbpp"
   },
   "outputs": [],
   "source": []
  },
  {
   "cell_type": "markdown",
   "metadata": {
    "id": "oPCNWWfqSa9B"
   },
   "source": [
    "### A Tic-Tac-Toe Board"
   ]
  },
  {
   "cell_type": "code",
   "execution_count": null,
   "metadata": {
    "id": "KbPPCSHuTFUA"
   },
   "outputs": [],
   "source": []
  },
  {
   "cell_type": "markdown",
   "metadata": {
    "id": "0gCoGrRnTF4W"
   },
   "source": [
    "### Nested Dictionaries and Lists"
   ]
  },
  {
   "cell_type": "code",
   "execution_count": null,
   "metadata": {
    "id": "qeBWeE3UTLRP"
   },
   "outputs": [],
   "source": []
  },
  {
   "cell_type": "markdown",
   "metadata": {
    "id": "7rQ-i1qwTNUH"
   },
   "source": [
    "## Practice Questions"
   ]
  },
  {
   "cell_type": "markdown",
   "metadata": {
    "id": "1Y8XaHjGTau4"
   },
   "source": [
    "1. What does the code for an empty dictionary look like?\n",
    "2. What does a dictionary value with a key 'foo' and a value 42 look like?\n",
    "3. What is the main difference between a dictionary and a list?\n",
    "4. What happens if you try to access spam['foo'] if spam is {'bar': 100}?\n",
    "5. If a dictionary is stored in spam, what is the difference between the expressions 'cat' in spam and 'cat' in spam.keys()?\n",
    "6. If a dictionary is stored in spam, what is the difference between the expressions 'cat' in spam and 'cat' in spam.values()?\n",
    "7. What is a shortcut for the following code?\n",
    "\n",
    "8. What module and function can be used to \"pretty print\" dictionary values?\n",
    "\n"
   ]
  },
  {
   "cell_type": "markdown",
   "metadata": {
    "id": "jsIwmPKUUDFo"
   },
   "source": [
    "## Practice Projects"
   ]
  },
  {
   "cell_type": "markdown",
   "metadata": {
    "id": "0FoQR4ByUJe6"
   },
   "source": [
    "### Fantasy Game Inventory"
   ]
  },
  {
   "cell_type": "code",
   "execution_count": null,
   "metadata": {
    "id": "9jCnFuiBTM_5"
   },
   "outputs": [],
   "source": []
  },
  {
   "cell_type": "markdown",
   "metadata": {
    "id": "dIiJqEGGUMMt"
   },
   "source": [
    "### List to Dictionary FUnction for Fantasy Game Inventory"
   ]
  },
  {
   "cell_type": "code",
   "execution_count": null,
   "metadata": {
    "id": "P4bY8kawUPbK"
   },
   "outputs": [],
   "source": []
  }
 ],
 "metadata": {
  "colab": {
   "authorship_tag": "ABX9TyNWrdQl6SEOTUVcj2vJmx52",
   "collapsed_sections": [],
   "name": "05_Dictionaries_StructuringData.ipynb",
   "provenance": [],
   "toc_visible": true
  },
  "kernelspec": {
   "display_name": "Python 3",
   "language": "python",
   "name": "python3"
  },
  "language_info": {
   "codemirror_mode": {
    "name": "ipython",
    "version": 3
   },
   "file_extension": ".py",
   "mimetype": "text/x-python",
   "name": "python",
   "nbconvert_exporter": "python",
   "pygments_lexer": "ipython3",
   "version": "3.8.5"
  }
 },
 "nbformat": 4,
 "nbformat_minor": 1
}
