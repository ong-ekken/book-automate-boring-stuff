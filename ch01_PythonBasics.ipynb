{
  "nbformat": 4,
  "nbformat_minor": 0,
  "metadata": {
    "colab": {
      "name": "01_PythonBasics.ipynb",
      "provenance": [],
      "collapsed_sections": [],
      "toc_visible": true
    },
    "kernelspec": {
      "name": "python3",
      "display_name": "Python 3"
    }
  },
  "cells": [
    {
      "cell_type": "markdown",
      "metadata": {
        "id": "c4GqfkTg8wTg"
      },
      "source": [
        "# Python Basics\n",
        "From the book: Automating the Boring Stuff with Python"
      ]
    },
    {
      "cell_type": "markdown",
      "metadata": {
        "id": "7XxICKEt0iLF"
      },
      "source": [
        "# Practice Questions"
      ]
    },
    {
      "cell_type": "markdown",
      "metadata": {
        "id": "u68dDPNFzlXE"
      },
      "source": [
        "## Which of the following are operators, and which are values?\n",
        "\n",
        "> \\* is operator(multiply)\n",
        ">\n",
        "> 'hello' is value(string)\n",
        ">\n",
        "> -88.8 is value(float)\n",
        ">\n",
        "> \\- is operator(minus)\n",
        ">\n",
        "> / is operator(divide)\n",
        "> \n",
        "> \\+ is operator(add)\n",
        "> \n",
        "> 5 is value(int)\n"
      ]
    },
    {
      "cell_type": "markdown",
      "metadata": {
        "id": "rld1Yyt4zpaQ"
      },
      "source": [
        "## Which of the following is a variable, and which is a string?\n",
        "\n",
        "> spam is variable while 'spam' is string"
      ]
    },
    {
      "cell_type": "markdown",
      "metadata": {
        "id": "Y31X5oVNzqR2"
      },
      "source": [
        "## Name three data types.\n",
        "\n",
        "> - integer\n",
        "> - float\n",
        "> - string\n",
        "> - boolean\n",
        "> - None\n",
        "> - list\n",
        "> - set\n",
        "> - dictionaries\n"
      ]
    },
    {
      "cell_type": "markdown",
      "metadata": {
        "id": "x2GCgMqczx8X"
      },
      "source": [
        "## What is an expression made up of? What do all expressions do?\n",
        "\n",
        "> Consists of values and operators, and can be evaluated down to a single value."
      ]
    },
    {
      "cell_type": "markdown",
      "metadata": {
        "id": "IEruv4pazzZt"
      },
      "source": [
        "## This chapter introduced assignment statements, like spam = 10. What is the difference between an expression and a statement?\n",
        "\n",
        "> A statement does not necessarily evaluate down to a single value. Instead, it carries out an action, such as assignment.\n",
        "\n"
      ]
    },
    {
      "cell_type": "markdown",
      "metadata": {
        "id": "1fRXLnLT1Xj2"
      },
      "source": [
        "## What does the variable bacon contain after the following code runs?\n",
        "\n",
        "bacon = 20\n",
        "bacon + 1"
      ]
    },
    {
      "cell_type": "markdown",
      "metadata": {
        "id": "emq8IbRTz2mZ"
      },
      "source": [
        "## What should the following two expressions evaluate to?\n",
        "\n",
        "> 'spam' + 'spamspam' = 'spamspamspam'\n",
        "\n",
        "> 'spam' * 3 = 'spamspamspam'\n",
        "\n"
      ]
    },
    {
      "cell_type": "markdown",
      "metadata": {
        "id": "2crcz90lz4AY"
      },
      "source": [
        "## Why is eggs a valid variable name while 100 is invalid?\n",
        "\n",
        "> Variable names must start with a letter from the alphabet. Numbers cannot be used in the initial position, but can be used in other positions within the variable name. "
      ]
    },
    {
      "cell_type": "markdown",
      "metadata": {
        "id": "xdWLmKzxz550"
      },
      "source": [
        "## What three functions can be used to get the integer, floating-point number, or string version of a value?\n",
        "\n",
        "> type cast using the following functions:\n",
        "> \n",
        "> int(x)\n",
        "> \n",
        "> float(x)\n",
        "> \n",
        "> str(x)"
      ]
    },
    {
      "cell_type": "markdown",
      "metadata": {
        "id": "Zg2ijGilz7KX"
      },
      "source": [
        "## Why does this expression cause an error? How can you fix it?\n",
        "\n",
        "'I have eaten ' + 99 + ' burritos.'\n",
        "\n",
        "> strings and integers cannot be 'added (or concatenated) to each other. "
      ]
    },
    {
      "cell_type": "markdown",
      "metadata": {
        "id": "SS3G4HyKz9Rb"
      },
      "source": [
        "## Extra credit: Search online for the Python documentation for the len() function. It will be on a web page titled “Built-in Functions.” Skim the list of other functions Python has, look up what the round() function does, and experiment with it in the interactive shell."
      ]
    }
  ]
}