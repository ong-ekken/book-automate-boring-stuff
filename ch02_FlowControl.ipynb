{
 "cells": [
  {
   "cell_type": "markdown",
   "metadata": {
    "colab_type": "text",
    "id": "c4GqfkTg8wTg"
   },
   "source": [
    "# Automate the Boring Stuff with Python\n",
    "# Chapter 02 Control Flow"
   ]
  },
  {
   "cell_type": "code",
   "execution_count": 1,
   "metadata": {
    "colab": {},
    "colab_type": "code",
    "executionInfo": {
     "elapsed": 593,
     "status": "ok",
     "timestamp": 1600252381648,
     "user": {
      "displayName": "Yuh Chian Ong",
      "photoUrl": "https://lh3.googleusercontent.com/a-/AOh14GhfmfPrUiDMrg6OiM-lPmn5EUJsz0vJvjdFWAPKEA=s64",
      "userId": "03669281660437514692"
     },
     "user_tz": -540
    },
    "id": "ViwOOvG2cIA4"
   },
   "outputs": [
    {
     "name": "stdout",
     "output_type": "stream",
     "text": [
      "You are not Alice, grannie.\n"
     ]
    }
   ],
   "source": [
    "# Vampire \n",
    "\n",
    "name = 'Alicia' # Editable \n",
    "age = 200       # Editable \n",
    "\n",
    "if name == 'Alice':\n",
    "    print('Hi, Alice.')\n",
    "elif age < 12:\n",
    "    print('You are not Alice, kiddo.')\n",
    "elif age > 2000:\n",
    "    print('Unlike you, Alice is not an undead, immortal vampire.')\n",
    "elif age > 100:\n",
    "    print('You are not Alice, grannie.')"
   ]
  },
  {
   "cell_type": "code",
   "execution_count": 2,
   "metadata": {
    "colab": {
     "base_uri": "https://localhost:8080/",
     "height": 35
    },
    "colab_type": "code",
    "executionInfo": {
     "elapsed": 510,
     "status": "ok",
     "timestamp": 1600252384420,
     "user": {
      "displayName": "Yuh Chian Ong",
      "photoUrl": "https://lh3.googleusercontent.com/a-/AOh14GhfmfPrUiDMrg6OiM-lPmn5EUJsz0vJvjdFWAPKEA=s64",
      "userId": "03669281660437514692"
     },
     "user_tz": -540
    },
    "id": "5zkGitG_cc99",
    "outputId": "fdea0fa9-4d70-46b0-b148-e6726a264e45"
   },
   "outputs": [
    {
     "name": "stdout",
     "output_type": "stream",
     "text": [
      "Please type your name.\n",
      "abc\n",
      "Please type your name.\n",
      "your name\n",
      "Thank you!\n"
     ]
    }
   ],
   "source": [
    "# Irritating While Loop\n",
    "\n",
    "name = ''\n",
    "while name != 'your name':\n",
    "    print('Please type your name.')\n",
    "    name = input()\n",
    "print('Thank you!')"
   ]
  },
  {
   "cell_type": "code",
   "execution_count": 3,
   "metadata": {
    "colab": {
     "base_uri": "https://localhost:8080/",
     "height": 35
    },
    "colab_type": "code",
    "executionInfo": {
     "elapsed": 629,
     "status": "ok",
     "timestamp": 1600252385710,
     "user": {
      "displayName": "Yuh Chian Ong",
      "photoUrl": "https://lh3.googleusercontent.com/a-/AOh14GhfmfPrUiDMrg6OiM-lPmn5EUJsz0vJvjdFWAPKEA=s64",
      "userId": "03669281660437514692"
     },
     "user_tz": -540
    },
    "id": "SW5t0oHvcbfn",
    "outputId": "ed78bfec-f6ab-4d40-be80-1ff8bba2fd66"
   },
   "outputs": [
    {
     "name": "stdout",
     "output_type": "stream",
     "text": [
      "Please type your name.\n",
      "name\n",
      "Please type your name.\n",
      "your name\n",
      "Thank you!\n"
     ]
    }
   ],
   "source": [
    "# Break Statements\n",
    "\n",
    "while True:\n",
    "    print('Please type your name.')\n",
    "    name = input()\n",
    "    if name == 'your name':\n",
    "        break\n",
    "print('Thank you!')"
   ]
  },
  {
   "cell_type": "code",
   "execution_count": 7,
   "metadata": {},
   "outputs": [
    {
     "name": "stdout",
     "output_type": "stream",
     "text": [
      "Who are you?\n",
      "name\n",
      "Who are you?\n",
      "Joe\n",
      "Hello, Joe. What is the password? (It is a fish.)\n",
      "fish\n",
      "Who are you?\n",
      "Joe\n",
      "Hello, Joe. What is the password? (It is a fish.)\n",
      "swordfish\n",
      "Access granted.\n"
     ]
    }
   ],
   "source": [
    "# Swordfish (Continue Statement)\n",
    "\n",
    "while True:\n",
    "    print('Who are you?')\n",
    "    name = input()\n",
    "    if name != 'Joe':\n",
    "        continue\n",
    "    print('Hello, Joe. What is the password? (It is a fish.)')\n",
    "    password = input()\n",
    "    if password == 'swordfish':\n",
    "        break\n",
    "print('Access granted.')"
   ]
  },
  {
   "cell_type": "code",
   "execution_count": 6,
   "metadata": {
    "colab": {
     "base_uri": "https://localhost:8080/",
     "height": 35
    },
    "colab_type": "code",
    "executionInfo": {
     "elapsed": 462,
     "status": "ok",
     "timestamp": 1600252386721,
     "user": {
      "displayName": "Yuh Chian Ong",
      "photoUrl": "https://lh3.googleusercontent.com/a-/AOh14GhfmfPrUiDMrg6OiM-lPmn5EUJsz0vJvjdFWAPKEA=s64",
      "userId": "03669281660437514692"
     },
     "user_tz": -540
    },
    "id": "5kYop1qXcXU8",
    "outputId": "758930f8-ffac-44be-db60-480411f22722"
   },
   "outputs": [
    {
     "name": "stdout",
     "output_type": "stream",
     "text": [
      "Enter your name:\n",
      "0\n",
      "How many guests will you have?\n",
      "0\n",
      "Done\n"
     ]
    }
   ],
   "source": [
    "# Truth-ey and False-y Values\n",
    "\n",
    "name = ''\n",
    "while not name:\n",
    "    print('Enter your name:')\n",
    "    name = input()\n",
    "print('How many guests will you have?')\n",
    "numOfGuests = int(input())\n",
    "if numOfGuests:\n",
    "    print('Be sure to have enough room for all your guests.')\n",
    "print('Done')"
   ]
  },
  {
   "cell_type": "code",
   "execution_count": 8,
   "metadata": {
    "colab": {
     "base_uri": "https://localhost:8080/",
     "height": 35
    },
    "colab_type": "code",
    "executionInfo": {
     "elapsed": 501,
     "status": "ok",
     "timestamp": 1600252389437,
     "user": {
      "displayName": "Yuh Chian Ong",
      "photoUrl": "https://lh3.googleusercontent.com/a-/AOh14GhfmfPrUiDMrg6OiM-lPmn5EUJsz0vJvjdFWAPKEA=s64",
      "userId": "03669281660437514692"
     },
     "user_tz": -540
    },
    "id": "iF5K_ayecXtY",
    "outputId": "df8ca651-12fb-4d09-ea87-69383c9731d4"
   },
   "outputs": [
    {
     "name": "stdout",
     "output_type": "stream",
     "text": [
      "My name is\n",
      "Jimmy Five Times (0)\n",
      "Jimmy Five Times (1)\n",
      "Jimmy Five Times (2)\n",
      "Jimmy Five Times (3)\n",
      "Jimmy Five Times (4)\n"
     ]
    }
   ],
   "source": [
    "# for Loop in range\n",
    "\n",
    "print('My name is')\n",
    "for i in range(5):\n",
    "    print('Jimmy Five Times (' + str(i) + ')')"
   ]
  },
  {
   "cell_type": "code",
   "execution_count": 9,
   "metadata": {
    "colab": {
     "base_uri": "https://localhost:8080/",
     "height": 35
    },
    "colab_type": "code",
    "executionInfo": {
     "elapsed": 542,
     "status": "ok",
     "timestamp": 1600252391204,
     "user": {
      "displayName": "Yuh Chian Ong",
      "photoUrl": "https://lh3.googleusercontent.com/a-/AOh14GhfmfPrUiDMrg6OiM-lPmn5EUJsz0vJvjdFWAPKEA=s64",
      "userId": "03669281660437514692"
     },
     "user_tz": -540
    },
    "id": "P_r0C5b4cXl3",
    "outputId": "7e33497d-15a6-42b7-ffb8-9951888b9ed3"
   },
   "outputs": [
    {
     "name": "stdout",
     "output_type": "stream",
     "text": [
      "My name is\n",
      "Jimmy Five Times (0)\n",
      "Jimmy Five Times (1)\n",
      "Jimmy Five Times (2)\n",
      "Jimmy Five Times (3)\n",
      "Jimmy Five Times (4)\n"
     ]
    }
   ],
   "source": [
    "# Equivalent fivetimes in while loop\n",
    "\n",
    "print('My name is')\n",
    "i = 0\n",
    "while i < 5:\n",
    "    print('Jimmy Five Times (' + str(i) + ')')\n",
    "    i = i + 1"
   ]
  },
  {
   "cell_type": "markdown",
   "metadata": {
    "colab_type": "text",
    "id": "dc-nj2_pecLe"
   },
   "source": [
    "## The Starting, Stopping, and Stepping Arguments to range( )"
   ]
  },
  {
   "cell_type": "code",
   "execution_count": 10,
   "metadata": {
    "colab": {
     "base_uri": "https://localhost:8080/",
     "height": 35
    },
    "colab_type": "code",
    "executionInfo": {
     "elapsed": 1113,
     "status": "ok",
     "timestamp": 1600252817539,
     "user": {
      "displayName": "Yuh Chian Ong",
      "photoUrl": "https://lh3.googleusercontent.com/a-/AOh14GhfmfPrUiDMrg6OiM-lPmn5EUJsz0vJvjdFWAPKEA=s64",
      "userId": "03669281660437514692"
     },
     "user_tz": -540
    },
    "id": "OquovwGNerb2",
    "outputId": "8d150a2c-7f13-46ae-c72f-f0da151b3875"
   },
   "outputs": [
    {
     "name": "stdout",
     "output_type": "stream",
     "text": [
      "12\n",
      "13\n",
      "14\n",
      "15\n"
     ]
    }
   ],
   "source": [
    "for i in range(12, 16):\n",
    "    print(i)"
   ]
  },
  {
   "cell_type": "code",
   "execution_count": 11,
   "metadata": {},
   "outputs": [
    {
     "name": "stdout",
     "output_type": "stream",
     "text": [
      "0\n",
      "2\n",
      "4\n",
      "6\n",
      "8\n"
     ]
    }
   ],
   "source": [
    "for i in range(0, 10, 2):\n",
    "    print(i)"
   ]
  },
  {
   "cell_type": "code",
   "execution_count": 12,
   "metadata": {},
   "outputs": [
    {
     "name": "stdout",
     "output_type": "stream",
     "text": [
      "5\n",
      "4\n",
      "3\n",
      "2\n",
      "1\n",
      "0\n"
     ]
    }
   ],
   "source": [
    "for i in range(5, -1, -1):\n",
    "    print(i)"
   ]
  },
  {
   "cell_type": "markdown",
   "metadata": {},
   "source": [
    "## Importing Modules"
   ]
  },
  {
   "cell_type": "code",
   "execution_count": 14,
   "metadata": {},
   "outputs": [
    {
     "name": "stdout",
     "output_type": "stream",
     "text": [
      "5\n",
      "5\n",
      "9\n",
      "1\n",
      "6\n"
     ]
    }
   ],
   "source": [
    "import random\n",
    "for i in range(5):\n",
    "    print(random.randint(1, 10))"
   ]
  },
  {
   "cell_type": "code",
   "execution_count": 15,
   "metadata": {},
   "outputs": [
    {
     "name": "stdout",
     "output_type": "stream",
     "text": [
      "Type exit to exit.\n",
      "exit\n"
     ]
    },
    {
     "ename": "SystemExit",
     "evalue": "",
     "output_type": "error",
     "traceback": [
      "An exception has occurred, use %tb to see the full traceback.\n",
      "\u001b[0;31mSystemExit\u001b[0m\n"
     ]
    },
    {
     "name": "stderr",
     "output_type": "stream",
     "text": [
      "/Users/ong/anaconda3/lib/python3.8/site-packages/IPython/core/interactiveshell.py:3426: UserWarning: To exit: use 'exit', 'quit', or Ctrl-D.\n",
      "  warn(\"To exit: use 'exit', 'quit', or Ctrl-D.\", stacklevel=1)\n"
     ]
    }
   ],
   "source": [
    "# Ending a Program Early with sys.exit( )\n",
    "\n",
    "# Doesn't work in Jupyter Notebook. \n",
    "# See python source code file exitExample.py.\n",
    "\n",
    "import sys\n",
    "while True:\n",
    "    print('Type exit to exit.')\n",
    "    response = input()\n",
    "    if response == 'exit':\n",
    "        sys.exit()\n",
    "    print('You typed ' + response + '.')"
   ]
  },
  {
   "cell_type": "markdown",
   "metadata": {},
   "source": [
    "## Project: Guess the Number"
   ]
  },
  {
   "cell_type": "code",
   "execution_count": 16,
   "metadata": {},
   "outputs": [
    {
     "name": "stdout",
     "output_type": "stream",
     "text": [
      "I am thinking of a number between 1 and 20.\n",
      "Take a guess.\n",
      "10\n",
      "Your guess is too high.\n",
      "Take a guess.\n",
      "11\n",
      "Your guess is too high.\n",
      "Take a guess.\n",
      "5\n",
      "Your guess is too high.\n",
      "Take a guess.\n",
      "2\n",
      "Good job! You guessed my number in 4 guesses!\n"
     ]
    }
   ],
   "source": [
    "# This is a guess the number game.\n",
    "import random\n",
    "secretNumber = random.randint(1, 20)\n",
    "print('I am thinking of a number between 1 and 20.')\n",
    "\n",
    "# Ask the player to guess 6 times.\n",
    "for guessesTaken in range(1, 7):\n",
    "    print('Take a guess.')\n",
    "    guess = int(input())\n",
    "\n",
    "    if guess < secretNumber:\n",
    "        print('Your guess is too low.')\n",
    "    elif guess > secretNumber:\n",
    "        print('Your guess is too high.')\n",
    "    else:\n",
    "        break # This condition is the correct guess!\n",
    "\n",
    "if guess == secretNumber:\n",
    "    print('Good job! You guessed my number in ' + str(guessesTaken) + ' guesses!')\n",
    "else:\n",
    "    print('Nope. The number I was thinking of was ' + str(secretNumber))\n"
   ]
  },
  {
   "cell_type": "markdown",
   "metadata": {},
   "source": [
    "## Project: Rock Paper Scissors"
   ]
  },
  {
   "cell_type": "code",
   "execution_count": 17,
   "metadata": {},
   "outputs": [
    {
     "name": "stdout",
     "output_type": "stream",
     "text": [
      "ROCK, PAPER, SCISSORS\n",
      "0 Wins, 0 Losses, 0 Ties\n",
      "Enter your move: (r)ock (p)aper (s)cissors or (q)uit\n",
      "r\n",
      "ROCK versus...\n",
      "ROCK\n",
      "It is a tie!\n",
      "0 Wins, 0 Losses, 1 Ties\n",
      "Enter your move: (r)ock (p)aper (s)cissors or (q)uit\n",
      "s\n",
      "SCISSORS versus...\n",
      "ROCK\n",
      "You lose!\n",
      "0 Wins, 1 Losses, 1 Ties\n",
      "Enter your move: (r)ock (p)aper (s)cissors or (q)uit\n",
      "p\n",
      "PAPER versus...\n",
      "ROCK\n",
      "You win!\n",
      "1 Wins, 1 Losses, 1 Ties\n",
      "Enter your move: (r)ock (p)aper (s)cissors or (q)uit\n",
      "p\n",
      "PAPER versus...\n",
      "SCISSORS\n",
      "You lose!\n",
      "1 Wins, 2 Losses, 1 Ties\n",
      "Enter your move: (r)ock (p)aper (s)cissors or (q)uit\n",
      "q\n"
     ]
    },
    {
     "ename": "SystemExit",
     "evalue": "",
     "output_type": "error",
     "traceback": [
      "An exception has occurred, use %tb to see the full traceback.\n",
      "\u001b[0;31mSystemExit\u001b[0m\n"
     ]
    }
   ],
   "source": [
    "import random, sys\n",
    "\n",
    "print('ROCK, PAPER, SCISSORS')\n",
    "\n",
    "# These variables keep track of the number of wins, losses, and ties.\n",
    "wins = 0\n",
    "losses = 0\n",
    "ties = 0\n",
    "\n",
    "while True: # The main game loop.\n",
    "    print('%s Wins, %s Losses, %s Ties' % (wins, losses, ties))\n",
    "    while True: # The player input loop.\n",
    "        print('Enter your move: (r)ock (p)aper (s)cissors or (q)uit')\n",
    "        playerMove = input()\n",
    "        if playerMove == 'q':\n",
    "            sys.exit() # Quit the program.\n",
    "        if playerMove == 'r' or playerMove == 'p' or playerMove == 's':\n",
    "            break # Break out of the player input loop.\n",
    "        print('Type one of r, p, s, or q.')\n",
    "\n",
    "    # Display what the player chose:\n",
    "    if playerMove == 'r':\n",
    "        print('ROCK versus...')\n",
    "    elif playerMove == 'p':\n",
    "        print('PAPER versus...')\n",
    "    elif playerMove == 's':\n",
    "        print('SCISSORS versus...')\n",
    "\n",
    "    # Display what the computer chose:\n",
    "    randomNumber = random.randint(1, 3)\n",
    "    if randomNumber == 1:\n",
    "        computerMove = 'r'\n",
    "        print('ROCK')\n",
    "    elif randomNumber == 2:\n",
    "        computerMove = 'p'\n",
    "        print('PAPER')\n",
    "    elif randomNumber == 3:\n",
    "        computerMove = 's'\n",
    "        print('SCISSORS')\n",
    "\n",
    "    # Display and record the win/loss/tie:\n",
    "    if playerMove == computerMove:\n",
    "        print('It is a tie!')\n",
    "        ties = ties + 1\n",
    "    elif playerMove == 'r' and computerMove == 's':\n",
    "        print('You win!')\n",
    "        wins = wins + 1\n",
    "    elif playerMove == 'p' and computerMove == 'r':\n",
    "        print('You win!')\n",
    "        wins = wins + 1\n",
    "    elif playerMove == 's' and computerMove == 'p':\n",
    "        print('You win!')\n",
    "        wins = wins + 1\n",
    "    elif playerMove == 'r' and computerMove == 'p':\n",
    "        print('You lose!')\n",
    "        losses = losses + 1\n",
    "    elif playerMove == 'p' and computerMove == 's':\n",
    "        print('You lose!')\n",
    "        losses = losses + 1\n",
    "    elif playerMove == 's' and computerMove == 'r':\n",
    "        print('You lose!')\n",
    "        losses = losses + 1"
   ]
  },
  {
   "cell_type": "markdown",
   "metadata": {},
   "source": [
    "Practice Questions\n",
    "1. What are the two values of the Boolean data type? How do you write them?\n",
    "\n",
    "    - True\n",
    "    - False\n",
    "    - initial-capitalized\n",
    "\n",
    "2. What are the three Boolean operators?\n",
    "\n",
    "    - and\n",
    "    - or\n",
    "    - not\n",
    "\n",
    "3. Write out the truth tables of each Boolean operator (that is, every possible combination of Boolean values for the operator and what they evaluate to).\n",
    "\n",
    "    - True and True -> True\n",
    "    - True and False -> False\n",
    "    - False and False -> False\n",
    "    - True or True -> True\n",
    "    - True or False -> True\n",
    "    - False or False -> False\n",
    "    - not True -> False\n",
    "    - not False -> True\n",
    "\n",
    "4. What do the following expressions evaluate to?\n",
    "\n",
    "    - False : (5 > 4) and (3 == 5)\n",
    "    - False : not (5 > 4) \n",
    "    - True  : (5 > 4) or (3 == 5)\n",
    "    - False : not ((5 > 4) or (3 == 5))\n",
    "    - False : (True and True) and (True == False)\n",
    "    - True  : (not False) or (not True)\n",
    "\n",
    "5. What are the six comparison operators?\n",
    "\n",
    "    -  >   more than\n",
    "    -  >=  more than or equals\n",
    "    -  <   less than \n",
    "    -  <=  less than or equals\n",
    "    -  ==  equals\n",
    "    -  !=  not equals \n",
    "    \n",
    "6. What is the difference between the equal to operator and the assignment operator?\n",
    "\n",
    "    - equal to operator is double equal signs ==\n",
    "    - assignment operator is single equal sign =\n",
    "\n",
    "7. Explain what a condition is and where you would use one.\n",
    "\n",
    "    - a condition evaluates to True or False\n",
    "    - used to qualify whether to execute or to terminate a loop\n",
    "\n",
    "8. Identify the three blocks in this code:\n",
    "\n",
    "    spam = 0\n",
    "    if spam == 10:  -- Block 1\n",
    "        print('eggs')\n",
    "        if spam > 5:  -- Block 2\n",
    "            print('bacon')  \n",
    "        else:         -- Block 3\n",
    "            print('ham')\n",
    "        print('spam')\n",
    "    print('spam')\n",
    "\n",
    "9. Write code that prints Hello if 1 is stored in spam, prints Howdy if 2 is stored in spam, and prints Greetings! if anything else is stored in spam.\n",
    "\n",
    "    - if spam == 1: print(\"Hello\")\n",
    "    - elif spam == 2: print(\"Howdy\")\n",
    "    - else: print(\"Greetings!\")\n",
    "\n",
    "10. What keys can you press if your program is stuck in an infinite loop?\n",
    "\n",
    "    - Ctrl-C\n",
    "\n",
    "11. What is the difference between break and continue?\n",
    "\n",
    "    - break exits the loop\n",
    "    - continue starts the next iteration of the loop\n",
    "\n",
    "12. What is the difference between range(10), range(0, 10), and range(0, 10, 1) in a for loop?\n",
    "\n",
    "    - no difference\n",
    "\n",
    "13. Write a short program that prints the numbers 1 to 10 using a for loop. Then write an equivalent program that prints the numbers 1 to 10 using a while loop.\n",
    "\n",
    "     - for n in range(1,11): print(n)\n",
    "     - m = 1\n",
    "     - while m <= 10: print(m) \n",
    "\n",
    "14. If you had a function named bacon() inside a module named spam, how would you call it after importing spam?\n",
    "\n",
    "    - spam.bacon()\n",
    "\n",
    "Extra credit: Look up the round() and abs() functions on the internet, and find out what they do. Experiment with them in the interactive shell\n",
    "\n",
    "    - rounds to nearest whole value\n",
    "    - obtains absolute (non-negative) value "
   ]
  }
 ],
 "metadata": {
  "colab": {
   "authorship_tag": "ABX9TyN/ocIKnr0ZExSUWjxY+hbx",
   "collapsed_sections": [
    "Yus6BuF2ZaNS"
   ],
   "name": "12 Web Scraping.ipynb",
   "provenance": [],
   "toc_visible": true
  },
  "kernelspec": {
   "display_name": "Python 3",
   "language": "python",
   "name": "python3"
  },
  "language_info": {
   "codemirror_mode": {
    "name": "ipython",
    "version": 3
   },
   "file_extension": ".py",
   "mimetype": "text/x-python",
   "name": "python",
   "nbconvert_exporter": "python",
   "pygments_lexer": "ipython3",
   "version": "3.8.5"
  }
 },
 "nbformat": 4,
 "nbformat_minor": 1
}
